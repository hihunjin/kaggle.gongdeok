{
 "cells": [
  {
   "cell_type": "markdown",
   "metadata": {
    "colab_type": "text",
    "id": "qtkuXkZaub2g"
   },
   "source": [
    "# Statoil/C-CORE Iceberg Classifier Challenge\n",
    "* * *\n",
    "\n",
    "## Ship or iceberg, can you decide from space?\n"
   ]
  },
  {
   "cell_type": "markdown",
   "metadata": {
    "colab_type": "text",
    "id": "5tHap-dluyhO"
   },
   "source": [
    "## 목차\n",
    "- 개요\n",
    "- Background 간략 설명\n",
    "- 사전작업\n",
    "- 데이터 설명\n",
    "- 데이터 분석\n",
    "- 접근법\n",
    "- 모델"
   ]
  },
  {
   "cell_type": "markdown",
   "metadata": {
    "colab_type": "text",
    "id": "efBxTHiQ11oP"
   },
   "source": [
    "## 개요"
   ]
  },
  {
   "cell_type": "markdown",
   "metadata": {
    "colab_type": "text",
    "id": "2jM5_Q462-0E"
   },
   "source": [
    "> 떠내려오는 빙상은 항해와 활동에 위협이 된다. 현재에는 항공 정찰과 해안 기반 지원을 통하여 환경 상황(빙상)을 감시할 수 있지만 날씨가 험한 오지에서는 위와 같은 방법들은 사용할 수 없으며, 유일한 방법은 위성을 통한 감시 뿐이다. <br><br>\n",
    "국제 에너지 회사인 Statoil은 가능한 한 빨리 빙산을 더 정확하게 탐지하고 차별하기 위해 기계 학습을 사용하는 방법에 대한 새로운 관점을 얻는 데 관심이 있다. <br><br>\n",
    "이 Competition 에서는 배인지 빙산인지 자동으로 식별하는 알고리즘을 구축해야 한다. ="
   ]
  },
  {
   "cell_type": "markdown",
   "metadata": {
    "colab_type": "text",
    "id": "uTWna8Ck4WJO"
   },
   "source": [
    "## Background 간략 설명"
   ]
  },
  {
   "cell_type": "markdown",
   "metadata": {
    "colab_type": "text",
    "id": "Jb3iHBlM4a1E"
   },
   "source": [
    "Sentinel-1 위성은 육지와 바다를 감시하는데 사용된다. 이 위성은 어둠, 비, 그림, 안개를 볼 수 있어서 밤낮으로 이미지를 캡처할 수 있다.\n",
    "물체가 주변보다 더 많은 레이더 에너지를 반사하기 때문에 밝은 지점으로 나타나지만 주변 장애물에서도 많은 레이더 에너지가 나올 수 있다. <br><br>\n",
    "\n",
    "레이더가 물체를 감지할 때, 반사되는 에너지를 백스캐터라 하는데 이 것만으로는 빙산을 구별할 수 없다. 그러므로 모양, 크기, 밝기 등 특정한 특징들을 더욱 분석해야할 필요가 있다. 이 경우, 물체를 둘러싼 영역을 분석하거나 모델링할 수 있다.\n",
    "\n",
    "많은 것들이 백스캐터에 영향을 끼친다. 강풍은 밝은 배경을 만들어 내고 반대는 어두운 배경을 만든다.\n",
    "\n",
    "Sentinel-1 위성은 side looking rader로 이미지 영역을 각도(incidence angle: 입사각)로 보는 것을 의미한다.\n",
    "\n",
    "![incidence angle](data:image/jpeg;base64,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)"
   ]
  },
  {
   "cell_type": "markdown",
   "metadata": {
    "colab_type": "text",
    "id": "wtLjijU6eFc-"
   },
   "source": [
    "일반적으로, 해양 배경은 더 높은 발생 각도에서 더 어두워질 것이다. Sentinel-1은 수평면과 수직면에서 송신하고 수신할 수 있으며, 이것은 dual-polarization(이중극화) 이미지를 얻을 수 있다.\n",
    "\n",
    "이 대회에서 HH와 HV의 채널을 볼 수 있으며, 두 채널은 객체의 특성에 중요한 역할을 할 수 있다.\n",
    "![iceberg](https://storage.googleapis.com/kaggle-media/competitions/statoil/8ZkRcp4.png) \n",
    "![ship](https://storage.googleapis.com/kaggle-media/competitions/statoil/M8OP2F2.png)"
   ]
  },
  {
   "cell_type": "markdown",
   "metadata": {
    "colab_type": "text",
    "id": "ZYlVXPjnfKG8"
   },
   "source": [
    "## 사전 작업"
   ]
  },
  {
   "cell_type": "code",
   "execution_count": 1,
   "metadata": {},
   "outputs": [],
   "source": [
    "import os"
   ]
  },
  {
   "cell_type": "code",
   "execution_count": 2,
   "metadata": {
    "colab": {
     "base_uri": "https://localhost:8080/",
     "height": 35
    },
    "colab_type": "code",
    "executionInfo": {
     "elapsed": 15153,
     "status": "ok",
     "timestamp": 1571365045454,
     "user": {
      "displayName": "구건모",
      "photoUrl": "",
      "userId": "17227085019885264458"
     },
     "user_tz": -540
    },
    "id": "TEwquRAygxWX",
    "outputId": "096d369b-d26d-498e-eb84-80a1a6efe8e4"
   },
   "outputs": [],
   "source": [
    "cur_path = os.getcwd()"
   ]
  },
  {
   "cell_type": "code",
   "execution_count": 3,
   "metadata": {},
   "outputs": [],
   "source": [
    "file_path = '/kaggle/statoil-iceberg-classifier-challenge'"
   ]
  },
  {
   "cell_type": "code",
   "execution_count": 4,
   "metadata": {},
   "outputs": [
    {
     "data": {
      "text/plain": [
       "'/home/gunmo/git/jupyters/kaggle/statoil-iceberg-classifier-challenge'"
      ]
     },
     "execution_count": 4,
     "metadata": {},
     "output_type": "execute_result"
    }
   ],
   "source": [
    "cur_path + file_path"
   ]
  },
  {
   "cell_type": "markdown",
   "metadata": {
    "colab_type": "text",
    "id": "vDlJlEFPhyrK"
   },
   "source": [
    "## 데이터 설명"
   ]
  },
  {
   "cell_type": "code",
   "execution_count": 5,
   "metadata": {
    "colab": {
     "base_uri": "https://localhost:8080/",
     "height": 53
    },
    "colab_type": "code",
    "executionInfo": {
     "elapsed": 41427,
     "status": "ok",
     "timestamp": 1571365074343,
     "user": {
      "displayName": "구건모",
      "photoUrl": "",
      "userId": "17227085019885264458"
     },
     "user_tz": -540
    },
    "id": "RmFcX_W-h3t7",
    "outputId": "f17a4625-fd5e-483b-a854-b5d9e6623d76"
   },
   "outputs": [
    {
     "name": "stdout",
     "output_type": "stream",
     "text": [
      " Lets_try_the_functools.ipynb\r\n",
      " Lets_try_the_itertools.ipynb\r\n",
      " Lets_try_the_operator.ipynb\r\n",
      "'[KAGGLE]Statoil_C-CORE Iceberg Classifier Challenge.ipynb'\r\n",
      " classmethod와staticmethod.ipynb\r\n",
      " kaggle\r\n",
      " matplotlib_Introductory.ipynb\r\n",
      "'python magic_method.ipynb'\r\n",
      " stinkbug.png\r\n"
     ]
    }
   ],
   "source": [
    "!ls ./"
   ]
  },
  {
   "cell_type": "code",
   "execution_count": 6,
   "metadata": {
    "colab": {},
    "colab_type": "code",
    "id": "eTuudyalhpzO"
   },
   "outputs": [],
   "source": [
    "import numpy as np\n",
    "import pandas as pd\n",
    "from sklearn.model_selection import train_test_split\n",
    "from matplotlib import pyplot as plt\n",
    "from mpl_toolkits.mplot3d import Axes3D\n",
    "import pylab\n",
    "plt.rcParams['figure.figsize'] = 10, 10\n",
    "%matplotlib inline"
   ]
  },
  {
   "cell_type": "code",
   "execution_count": 7,
   "metadata": {
    "colab": {},
    "colab_type": "code",
    "id": "SNh2DIXuhxRu"
   },
   "outputs": [],
   "source": [
    "train = pd.read_json(cur_path + file_path + '/train.json')\n",
    "test = pd.read_json(cur_path + file_path + '/test.json')\n",
    "sample = pd.read_csv(cur_path + file_path + '/sample_submission.csv')"
   ]
  },
  {
   "cell_type": "code",
   "execution_count": 165,
   "metadata": {
    "colab": {
     "base_uri": "https://localhost:8080/",
     "height": 53
    },
    "colab_type": "code",
    "executionInfo": {
     "elapsed": 53272,
     "status": "ok",
     "timestamp": 1571365086913,
     "user": {
      "displayName": "구건모",
      "photoUrl": "",
      "userId": "17227085019885264458"
     },
     "user_tz": -540
    },
    "id": "h9-16OifkscH",
    "outputId": "ffbf82dd-bac2-47ba-81bf-cd5b7953a479"
   },
   "outputs": [
    {
     "name": "stdout",
     "output_type": "stream",
     "text": [
      "Index(['id', 'band_1', 'band_2', 'inc_angle', 'is_iceberg'], dtype='object')\n",
      "Index(['id', 'band_1', 'band_2', 'inc_angle'], dtype='object')\n"
     ]
    }
   ],
   "source": [
    "print(train.keys())\n",
    "print(test.keys())"
   ]
  },
  {
   "cell_type": "markdown",
   "metadata": {},
   "source": [
    "id : PK <br>\n",
    "band_1 : HH <br>\n",
    "band_2 : HB <br>\n",
    "inc_angle : inc_angle <br>\n",
    "is_iceberg, int, [0, 1]"
   ]
  },
  {
   "cell_type": "code",
   "execution_count": 9,
   "metadata": {},
   "outputs": [
    {
     "data": {
      "text/html": [
       "<div>\n",
       "<style scoped>\n",
       "    .dataframe tbody tr th:only-of-type {\n",
       "        vertical-align: middle;\n",
       "    }\n",
       "\n",
       "    .dataframe tbody tr th {\n",
       "        vertical-align: top;\n",
       "    }\n",
       "\n",
       "    .dataframe thead th {\n",
       "        text-align: right;\n",
       "    }\n",
       "</style>\n",
       "<table border=\"1\" class=\"dataframe\">\n",
       "  <thead>\n",
       "    <tr style=\"text-align: right;\">\n",
       "      <th></th>\n",
       "      <th>id</th>\n",
       "      <th>is_iceberg</th>\n",
       "    </tr>\n",
       "  </thead>\n",
       "  <tbody>\n",
       "    <tr>\n",
       "      <td>0</td>\n",
       "      <td>5941774d</td>\n",
       "      <td>0.5</td>\n",
       "    </tr>\n",
       "    <tr>\n",
       "      <td>1</td>\n",
       "      <td>4023181e</td>\n",
       "      <td>0.5</td>\n",
       "    </tr>\n",
       "    <tr>\n",
       "      <td>2</td>\n",
       "      <td>b20200e4</td>\n",
       "      <td>0.5</td>\n",
       "    </tr>\n",
       "    <tr>\n",
       "      <td>3</td>\n",
       "      <td>e7f018bb</td>\n",
       "      <td>0.5</td>\n",
       "    </tr>\n",
       "  </tbody>\n",
       "</table>\n",
       "</div>"
      ],
      "text/plain": [
       "         id  is_iceberg\n",
       "0  5941774d         0.5\n",
       "1  4023181e         0.5\n",
       "2  b20200e4         0.5\n",
       "3  e7f018bb         0.5"
      ]
     },
     "execution_count": 9,
     "metadata": {},
     "output_type": "execute_result"
    }
   ],
   "source": [
    "sample.head(4)"
   ]
  },
  {
   "cell_type": "markdown",
   "metadata": {},
   "source": [
    "## 데이터 분석"
   ]
  },
  {
   "cell_type": "code",
   "execution_count": 10,
   "metadata": {
    "colab": {},
    "colab_type": "code",
    "id": "hF0c5yuCkxj5"
   },
   "outputs": [],
   "source": [
    "X_band_1=np.array([np.array(band).astype(np.float32).reshape(75, 75) for band in train[\"band_1\"]])\n",
    "X_band_2=np.array([np.array(band).astype(np.float32).reshape(75, 75) for band in train[\"band_2\"]])\n",
    "X_train = np.concatenate([X_band_1[:, :, :, np.newaxis], X_band_2[:, :, :, np.newaxis],((X_band_1+X_band_2)/2)[:, :, :, np.newaxis]], axis=-1)"
   ]
  },
  {
   "cell_type": "code",
   "execution_count": 11,
   "metadata": {
    "colab": {
     "base_uri": "https://localhost:8080/",
     "height": 35
    },
    "colab_type": "code",
    "executionInfo": {
     "elapsed": 54040,
     "status": "ok",
     "timestamp": 1571365087987,
     "user": {
      "displayName": "구건모",
      "photoUrl": "",
      "userId": "17227085019885264458"
     },
     "user_tz": -540
    },
    "id": "Y_2_wHg9k3Ms",
    "outputId": "224c7dc7-a8c8-42ce-8326-fe293c75b87f"
   },
   "outputs": [
    {
     "data": {
      "text/plain": [
       "((1604, 75, 75), (1604, 75, 75), (1604, 75, 75, 3))"
      ]
     },
     "execution_count": 11,
     "metadata": {},
     "output_type": "execute_result"
    }
   ],
   "source": [
    "X_band_1.shape, X_band_2.shape, X_train.shape"
   ]
  },
  {
   "cell_type": "code",
   "execution_count": 12,
   "metadata": {},
   "outputs": [],
   "source": [
    "raw_data = X_train.copy()"
   ]
  },
  {
   "cell_type": "code",
   "execution_count": 13,
   "metadata": {},
   "outputs": [],
   "source": [
    "def normalize(d):\n",
    "    # d is a (n x dimension) np array\n",
    "    d -= np.mean (d, axis=0)\n",
    "    d /= np.std(d, axis=0)\n",
    "    return d\n",
    "normalize_data = normalize(X_train.copy())"
   ]
  },
  {
   "cell_type": "code",
   "execution_count": 14,
   "metadata": {},
   "outputs": [],
   "source": [
    "def normal_image(d):\n",
    "    # d is a (n x dimension) np array\n",
    "    d -= np.min(d, axis=0)\n",
    "    d /= np.ptp(d, axis=0)\n",
    "    return d"
   ]
  },
  {
   "cell_type": "code",
   "execution_count": 15,
   "metadata": {},
   "outputs": [],
   "source": [
    "temp = X_train.copy() \n",
    "normalize_all_data =  (temp - np.mean(temp)) / np.std(temp)"
   ]
  },
  {
   "cell_type": "code",
   "execution_count": 16,
   "metadata": {},
   "outputs": [
    {
     "data": {
      "text/plain": [
       "(12.673096, -6.6953144, 12.091329, -4.616211)"
      ]
     },
     "execution_count": 16,
     "metadata": {},
     "output_type": "execute_result"
    }
   ],
   "source": [
    "normalize_data.max(), normalize_data.min(), normalize_all_data.max(), normalize_all_data.min()"
   ]
  },
  {
   "cell_type": "code",
   "execution_count": 17,
   "metadata": {},
   "outputs": [
    {
     "name": "stderr",
     "output_type": "stream",
     "text": [
      "Clipping input data to the valid range for imshow with RGB data ([0..1] for floats or [0..255] for integers).\n"
     ]
    },
    {
     "data": {
      "text/plain": [
       "<matplotlib.image.AxesImage at 0x7f0d620ceeb8>"
      ]
     },
     "execution_count": 17,
     "metadata": {},
     "output_type": "execute_result"
    },
    {
     "data": {
      "image/png": "[encoded data removed]",
      "text/plain": [
       "<Figure size 432x288 with 1 Axes>"
      ]
     },
     "metadata": {
      "needs_background": "light"
     },
     "output_type": "display_data"
    }
   ],
   "source": [
    "plt.imshow(normalize_all_data[4])"
   ]
  },
  {
   "cell_type": "code",
   "execution_count": 100,
   "metadata": {},
   "outputs": [],
   "source": [
    "normal_img_data = normal_image(X_train.copy())"
   ]
  },
  {
   "cell_type": "code",
   "execution_count": 19,
   "metadata": {},
   "outputs": [
    {
     "data": {
      "text/plain": [
       "(<matplotlib.image.AxesImage at 0x7f0d56597048>, 1)"
      ]
     },
     "execution_count": 19,
     "metadata": {},
     "output_type": "execute_result"
    },
    {
     "data": {
      "image/png": "[encoded data removed]",
      "text/plain": [
       "<Figure size 432x288 with 1 Axes>"
      ]
     },
     "metadata": {
      "needs_background": "light"
     },
     "output_type": "display_data"
    }
   ],
   "source": [
    "idx = 6\n",
    "plt.imshow(normal_img_data[idx]), train['is_iceberg'][idx]"
   ]
  },
  {
   "cell_type": "code",
   "execution_count": 144,
   "metadata": {},
   "outputs": [],
   "source": [
    "check = np.tile(train['is_iceberg'].to_numpy(),4)"
   ]
  },
  {
   "cell_type": "code",
   "execution_count": 153,
   "metadata": {},
   "outputs": [
    {
     "data": {
      "text/plain": [
       "1604"
      ]
     },
     "execution_count": 153,
     "metadata": {},
     "output_type": "execute_result"
    }
   ],
   "source": [
    "check.shape[0] // 4"
   ]
  },
  {
   "cell_type": "code",
   "execution_count": 79,
   "metadata": {},
   "outputs": [],
   "source": [
    "noise_data = normal_img_data.copy() * np.random.normal(0, 1, size = X_train.shape)\n",
    "noise_data_2 = normal_img_data.copy() * np.random.normal(0, 0.6, size = X_train.shape)\n",
    "noise_data_3 = normal_img_data.copy() * np.random.normal(0, 0.2, size = X_train.shape)"
   ]
  },
  {
   "cell_type": "code",
   "execution_count": 80,
   "metadata": {},
   "outputs": [],
   "source": [
    "noise_data_4 = normalize_all_data.copy() + np.random.normal(0, 1, size = X_train.shape)\n",
    "noise_data_5 = normalize_all_data.copy() + np.random.normal(0, 0.6, size = X_train.shape)\n",
    "noise_data_6 = normalize_all_data.copy() + np.random.normal(0, 0.2, size = X_train.shape)"
   ]
  },
  {
   "cell_type": "code",
   "execution_count": 86,
   "metadata": {},
   "outputs": [
    {
     "name": "stderr",
     "output_type": "stream",
     "text": [
      "Clipping input data to the valid range for imshow with RGB data ([0..1] for floats or [0..255] for integers).\n"
     ]
    },
    {
     "data": {
      "text/plain": [
       "<matplotlib.image.AxesImage at 0x7f0d0c4ae898>"
      ]
     },
     "execution_count": 86,
     "metadata": {},
     "output_type": "execute_result"
    },
    {
     "data": {
      "image/png": "[encoded data removed]",
      "text/plain": [
       "<Figure size 432x288 with 1 Axes>"
      ]
     },
     "metadata": {
      "needs_background": "light"
     },
     "output_type": "display_data"
    }
   ],
   "source": [
    "plt.imshow(noise_data_6[0])"
   ]
  },
  {
   "cell_type": "code",
   "execution_count": 59,
   "metadata": {},
   "outputs": [],
   "source": [
    "def imshow(data):\n",
    "    data -= np.min(data, axis = 0)\n",
    "    data /= np.ptp(data, axis = 0)\n",
    "    print(data.shape)\n",
    "    print(data.max(), data.min())\n",
    "    plt.imshow(data * 255)"
   ]
  },
  {
   "cell_type": "code",
   "execution_count": 93,
   "metadata": {},
   "outputs": [],
   "source": [
    "def rotate90(X_DATA):\n",
    "    for i in range(len(X_DATA)):\n",
    "        X_DATA[i] = np.rot90(X_DATA[i])\n",
    "    return X_DATA"
   ]
  },
  {
   "cell_type": "code",
   "execution_count": 102,
   "metadata": {},
   "outputs": [],
   "source": [
    "normal_img_rot_data_1 = rotate90(normal_img_data.copy())\n",
    "normal_img_rot_data_2 = rotate90(normal_img_rot_data_1.copy())\n",
    "normal_img_rot_data_3 = rotate90(normal_img_rot_data_2.copy())"
   ]
  },
  {
   "cell_type": "code",
   "execution_count": 122,
   "metadata": {},
   "outputs": [],
   "source": [
    "normalize_rot_data_1 = rotate90(normalize_all_data.copy())\n",
    "normalize_rot_data_2 = rotate90(normalize_rot_data_1.copy())\n",
    "normalize_rot_data_3 = rotate90(normalize_rot_data_2.copy())"
   ]
  },
  {
   "cell_type": "code",
   "execution_count": 123,
   "metadata": {},
   "outputs": [],
   "source": [
    "aa = np.concatenate((normalize_all_data, normalize_rot_data_1), axis = 0)\n",
    "aa = np.concatenate((aa, normalize_rot_data_2), axis = 0)\n",
    "normalize_rot_data = np.concatenate((aa, normalize_rot_data_3), axis = 0)"
   ]
  },
  {
   "cell_type": "code",
   "execution_count": 107,
   "metadata": {},
   "outputs": [
    {
     "data": {
      "text/plain": [
       "<matplotlib.image.AxesImage at 0x7f0d029f3ba8>"
      ]
     },
     "execution_count": 107,
     "metadata": {},
     "output_type": "execute_result"
    },
    {
     "data": {
      "image/png": "[encoded data removed]",
      "text/plain": [
       "<Figure size 432x288 with 4 Axes>"
      ]
     },
     "metadata": {
      "needs_background": "light"
     },
     "output_type": "display_data"
    }
   ],
   "source": [
    "idx = 4\n",
    "plt.subplot(1, 4, 1)\n",
    "plt.imshow(normal_img_data[idx])\n",
    "plt.subplot(1, 4, 2)\n",
    "plt.imshow(normal_img_rot_data_1[idx])\n",
    "plt.subplot(1, 4, 3)\n",
    "plt.imshow(normal_img_rot_data_2[idx])\n",
    "plt.subplot(1, 4, 4)\n",
    "plt.imshow(normal_img_rot_data_3[idx])"
   ]
  },
  {
   "cell_type": "code",
   "execution_count": 160,
   "metadata": {},
   "outputs": [
    {
     "name": "stderr",
     "output_type": "stream",
     "text": [
      "Clipping input data to the valid range for imshow with RGB data ([0..1] for floats or [0..255] for integers).\n",
      "Clipping input data to the valid range for imshow with RGB data ([0..1] for floats or [0..255] for integers).\n",
      "Clipping input data to the valid range for imshow with RGB data ([0..1] for floats or [0..255] for integers).\n",
      "Clipping input data to the valid range for imshow with RGB data ([0..1] for floats or [0..255] for integers).\n"
     ]
    },
    {
     "data": {
      "text/plain": [
       "Text(0.5, 0, '1')"
      ]
     },
     "execution_count": 160,
     "metadata": {},
     "output_type": "execute_result"
    },
    {
     "data": {
      "image/png": "[encoded data removed]",
      "text/plain": [
       "<Figure size 432x288 with 4 Axes>"
      ]
     },
     "metadata": {
      "needs_background": "light"
     },
     "output_type": "display_data"
    }
   ],
   "source": [
    "idx = 5\n",
    "plt.subplot(1, 4, 1)\n",
    "plt.imshow(normalize_all_data[idx])\n",
    "plt.xlabel(check[idx])\n",
    "plt.subplot(1, 4, 2)\n",
    "plt.imshow(normalize_rot_data_1[idx])\n",
    "plt.xlabel(check[idx + 1604])\n",
    "plt.subplot(1, 4, 3)\n",
    "plt.imshow(normalize_rot_data_2[idx])\n",
    "plt.xlabel(check[idx + 3208])\n",
    "plt.subplot(1, 4, 4)\n",
    "plt.imshow(normalize_rot_data_3[idx])\n",
    "plt.xlabel(check[idx + 4812])"
   ]
  },
  {
   "cell_type": "code",
   "execution_count": 114,
   "metadata": {},
   "outputs": [],
   "source": [
    "aa = np.concatenate((normal_img_data, normal_img_rot_data_1), axis = 0)\n",
    "aa = np.concatenate((aa, normal_img_rot_data_2), axis = 0)\n",
    "normal_img_rot_data = np.concatenate((aa, normal_img_rot_data_3), axis = 0)"
   ]
  },
  {
   "cell_type": "code",
   "execution_count": 116,
   "metadata": {},
   "outputs": [
    {
     "data": {
      "text/plain": [
       "((6416, 75, 75, 3), (6416,))"
      ]
     },
     "execution_count": 116,
     "metadata": {},
     "output_type": "execute_result"
    }
   ],
   "source": [
    "normal_img_rot_data.shape, check.shape"
   ]
  },
  {
   "cell_type": "code",
   "execution_count": 161,
   "metadata": {},
   "outputs": [],
   "source": [
    "shuf = np.arange(normal_img_rot_data.shape[0])\n",
    "np.random.shuffle(shuf)\n",
    "normal_img_rot_data = normal_img_rot_data[shuf]\n",
    "normal_img_check = check.copy()[shuf]"
   ]
  },
  {
   "cell_type": "code",
   "execution_count": 162,
   "metadata": {},
   "outputs": [],
   "source": [
    "shuf = np.arange(normalize_rot_data.shape[0])\n",
    "np.random.shuffle(shuf)\n",
    "normalize_rot_data = normalize_rot_data[shuf]\n",
    "normalize_check = check.copy()[shuf]"
   ]
  },
  {
   "cell_type": "code",
   "execution_count": 113,
   "metadata": {},
   "outputs": [
    {
     "data": {
      "text/plain": [
       "<matplotlib.image.AxesImage at 0x7f0cfe9182b0>"
      ]
     },
     "execution_count": 113,
     "metadata": {},
     "output_type": "execute_result"
    },
    {
     "data": {
      "image/png": "[encoded data removed]",
      "text/plain": [
       "<Figure size 432x288 with 1 Axes>"
      ]
     },
     "metadata": {
      "needs_background": "light"
     },
     "output_type": "display_data"
    }
   ],
   "source": [
    "plt.imshow(aa[1604])"
   ]
  },
  {
   "cell_type": "code",
   "execution_count": 60,
   "metadata": {},
   "outputs": [
    {
     "name": "stderr",
     "output_type": "stream",
     "text": [
      "Clipping input data to the valid range for imshow with RGB data ([0..1] for floats or [0..255] for integers).\n"
     ]
    },
    {
     "name": "stdout",
     "output_type": "stream",
     "text": [
      "(75, 75, 3)\n",
      "1.0 0.0\n"
     ]
    },
    {
     "data": {
      "image/png": "[encoded data removed]",
      "text/plain": [
       "<Figure size 432x288 with 1 Axes>"
      ]
     },
     "metadata": {
      "needs_background": "light"
     },
     "output_type": "display_data"
    }
   ],
   "source": [
    "imshow(noise_data[3].copy())"
   ]
  },
  {
   "cell_type": "code",
   "execution_count": 70,
   "metadata": {
    "colab": {
     "base_uri": "https://localhost:8080/",
     "height": 1000
    },
    "colab_type": "code",
    "executionInfo": {
     "elapsed": 53876,
     "status": "ok",
     "timestamp": 1571365087988,
     "user": {
      "displayName": "구건모",
      "photoUrl": "",
      "userId": "17227085019885264458"
     },
     "user_tz": -540
    },
    "id": "ppV4mO5llJm4",
    "outputId": "4f99363b-c353-4e6f-e2da-b91e7ca19213"
   },
   "outputs": [
    {
     "data": {
      "text/plain": [
       "0    dfd5f913\n",
       "1    e25388fd\n",
       "2    58b2aaa0\n",
       "3    4cfc3a18\n",
       "4    271f93f4\n",
       "Name: id, dtype: object"
      ]
     },
     "execution_count": 70,
     "metadata": {},
     "output_type": "execute_result"
    }
   ],
   "source": [
    "train[\"id\"].head() # string 값"
   ]
  },
  {
   "cell_type": "code",
   "execution_count": 17,
   "metadata": {
    "colab": {
     "base_uri": "https://localhost:8080/",
     "height": 35
    },
    "colab_type": "code",
    "executionInfo": {
     "elapsed": 53771,
     "status": "ok",
     "timestamp": 1571365087988,
     "user": {
      "displayName": "구건모",
      "photoUrl": "",
      "userId": "17227085019885264458"
     },
     "user_tz": -540
    },
    "id": "RicLA1jF5q9T",
    "outputId": "f87658ea-2a6f-4ecc-fc91-9adbea25f240"
   },
   "outputs": [
    {
     "data": {
      "text/plain": [
       "879"
      ]
     },
     "execution_count": 17,
     "metadata": {},
     "output_type": "execute_result"
    }
   ],
   "source": [
    "len(set(train['inc_angle'].to_list()))"
   ]
  },
  {
   "cell_type": "code",
   "execution_count": 18,
   "metadata": {
    "colab": {},
    "colab_type": "code",
    "id": "1gcG7ejTeBS_"
   },
   "outputs": [
    {
     "data": {
      "text/plain": [
       "(753, 851)"
      ]
     },
     "execution_count": 18,
     "metadata": {},
     "output_type": "execute_result"
    }
   ],
   "source": [
    "sum(train['is_iceberg'] == 1), sum(train['is_iceberg'] == 0) # iceberg: 753, ship: 851"
   ]
  },
  {
   "cell_type": "code",
   "execution_count": 19,
   "metadata": {},
   "outputs": [
    {
     "data": {
      "text/plain": [
       "12.570409"
      ]
     },
     "execution_count": 19,
     "metadata": {},
     "output_type": "execute_result"
    }
   ],
   "source": [
    "np.max(X_train[1])\n",
    "# plt.imshow(X_train[0])"
   ]
  },
  {
   "cell_type": "markdown",
   "metadata": {},
   "source": [
    "## 접근법"
   ]
  },
  {
   "cell_type": "markdown",
   "metadata": {},
   "source": [
    "- normalize\n",
    "- rotate\n",
    "- noise"
   ]
  },
  {
   "cell_type": "markdown",
   "metadata": {},
   "source": [
    "## 모델"
   ]
  },
  {
   "cell_type": "code",
   "execution_count": 61,
   "metadata": {},
   "outputs": [
    {
     "name": "stderr",
     "output_type": "stream",
     "text": [
      "Using TensorFlow backend.\n",
      "/home/gunmo/anaconda3/envs/yolov3/lib/python3.6/site-packages/tensorflow/python/framework/dtypes.py:516: FutureWarning: Passing (type, 1) or '1type' as a synonym of type is deprecated; in a future version of numpy, it will be understood as (type, (1,)) / '(1,)type'.\n",
      "  _np_qint8 = np.dtype([(\"qint8\", np.int8, 1)])\n",
      "/home/gunmo/anaconda3/envs/yolov3/lib/python3.6/site-packages/tensorflow/python/framework/dtypes.py:517: FutureWarning: Passing (type, 1) or '1type' as a synonym of type is deprecated; in a future version of numpy, it will be understood as (type, (1,)) / '(1,)type'.\n",
      "  _np_quint8 = np.dtype([(\"quint8\", np.uint8, 1)])\n",
      "/home/gunmo/anaconda3/envs/yolov3/lib/python3.6/site-packages/tensorflow/python/framework/dtypes.py:518: FutureWarning: Passing (type, 1) or '1type' as a synonym of type is deprecated; in a future version of numpy, it will be understood as (type, (1,)) / '(1,)type'.\n",
      "  _np_qint16 = np.dtype([(\"qint16\", np.int16, 1)])\n",
      "/home/gunmo/anaconda3/envs/yolov3/lib/python3.6/site-packages/tensorflow/python/framework/dtypes.py:519: FutureWarning: Passing (type, 1) or '1type' as a synonym of type is deprecated; in a future version of numpy, it will be understood as (type, (1,)) / '(1,)type'.\n",
      "  _np_quint16 = np.dtype([(\"quint16\", np.uint16, 1)])\n",
      "/home/gunmo/anaconda3/envs/yolov3/lib/python3.6/site-packages/tensorflow/python/framework/dtypes.py:520: FutureWarning: Passing (type, 1) or '1type' as a synonym of type is deprecated; in a future version of numpy, it will be understood as (type, (1,)) / '(1,)type'.\n",
      "  _np_qint32 = np.dtype([(\"qint32\", np.int32, 1)])\n",
      "/home/gunmo/anaconda3/envs/yolov3/lib/python3.6/site-packages/tensorflow/python/framework/dtypes.py:525: FutureWarning: Passing (type, 1) or '1type' as a synonym of type is deprecated; in a future version of numpy, it will be understood as (type, (1,)) / '(1,)type'.\n",
      "  np_resource = np.dtype([(\"resource\", np.ubyte, 1)])\n",
      "/home/gunmo/anaconda3/envs/yolov3/lib/python3.6/site-packages/tensorboard/compat/tensorflow_stub/dtypes.py:541: FutureWarning: Passing (type, 1) or '1type' as a synonym of type is deprecated; in a future version of numpy, it will be understood as (type, (1,)) / '(1,)type'.\n",
      "  _np_qint8 = np.dtype([(\"qint8\", np.int8, 1)])\n",
      "/home/gunmo/anaconda3/envs/yolov3/lib/python3.6/site-packages/tensorboard/compat/tensorflow_stub/dtypes.py:542: FutureWarning: Passing (type, 1) or '1type' as a synonym of type is deprecated; in a future version of numpy, it will be understood as (type, (1,)) / '(1,)type'.\n",
      "  _np_quint8 = np.dtype([(\"quint8\", np.uint8, 1)])\n",
      "/home/gunmo/anaconda3/envs/yolov3/lib/python3.6/site-packages/tensorboard/compat/tensorflow_stub/dtypes.py:543: FutureWarning: Passing (type, 1) or '1type' as a synonym of type is deprecated; in a future version of numpy, it will be understood as (type, (1,)) / '(1,)type'.\n",
      "  _np_qint16 = np.dtype([(\"qint16\", np.int16, 1)])\n",
      "/home/gunmo/anaconda3/envs/yolov3/lib/python3.6/site-packages/tensorboard/compat/tensorflow_stub/dtypes.py:544: FutureWarning: Passing (type, 1) or '1type' as a synonym of type is deprecated; in a future version of numpy, it will be understood as (type, (1,)) / '(1,)type'.\n",
      "  _np_quint16 = np.dtype([(\"quint16\", np.uint16, 1)])\n",
      "/home/gunmo/anaconda3/envs/yolov3/lib/python3.6/site-packages/tensorboard/compat/tensorflow_stub/dtypes.py:545: FutureWarning: Passing (type, 1) or '1type' as a synonym of type is deprecated; in a future version of numpy, it will be understood as (type, (1,)) / '(1,)type'.\n",
      "  _np_qint32 = np.dtype([(\"qint32\", np.int32, 1)])\n",
      "/home/gunmo/anaconda3/envs/yolov3/lib/python3.6/site-packages/tensorboard/compat/tensorflow_stub/dtypes.py:550: FutureWarning: Passing (type, 1) or '1type' as a synonym of type is deprecated; in a future version of numpy, it will be understood as (type, (1,)) / '(1,)type'.\n",
      "  np_resource = np.dtype([(\"resource\", np.ubyte, 1)])\n"
     ]
    }
   ],
   "source": [
    "#Import Keras.\n",
    "from matplotlib import pyplot\n",
    "from keras.preprocessing.image import ImageDataGenerator\n",
    "from keras.models import Sequential\n",
    "from keras.layers import Conv2D, MaxPooling2D, Dense, Dropout, Input, Flatten, Activation\n",
    "from keras.layers import GlobalMaxPooling2D\n",
    "from keras.layers.normalization import BatchNormalization\n",
    "from keras.layers.merge import Concatenate\n",
    "from keras.models import Model\n",
    "from keras import initializers\n",
    "from keras.optimizers import Adam\n",
    "from keras.callbacks import ModelCheckpoint, Callback, EarlyStopping\n",
    "import tensorflow as tf\n",
    "from keras import backend as  K\n",
    "\n",
    "config = tf.ConfigProto(\n",
    "allow_soft_placement=True, log_device_placement=True)\n",
    "config.gpu_options.allow_growth = True\n",
    "sess = tf.Session(config=config)\n",
    "K.set_session(sess)"
   ]
  },
  {
   "cell_type": "code",
   "execution_count": 135,
   "metadata": {},
   "outputs": [],
   "source": [
    "#define our model\n",
    "def getModel():\n",
    "    #Building the model\n",
    "    gmodel=Sequential()\n",
    "    #Conv Layer 1\n",
    "    gmodel.add(Conv2D(64, kernel_size=(3, 3),activation='relu', input_shape=(75, 75, 3)))\n",
    "    gmodel.add(MaxPooling2D(pool_size=(3, 3), strides=(2, 2)))\n",
    "    gmodel.add(Dropout(0.2))\n",
    "\n",
    "    #Conv Layer 2\n",
    "    gmodel.add(Conv2D(128, kernel_size=(3, 3), activation='relu' ))\n",
    "    gmodel.add(MaxPooling2D(pool_size=(2, 2), strides=(2, 2)))\n",
    "    gmodel.add(Dropout(0.2))\n",
    "\n",
    "    #Conv Layer 3\n",
    "    gmodel.add(Conv2D(128, kernel_size=(3, 3), activation='relu'))\n",
    "    gmodel.add(MaxPooling2D(pool_size=(2, 2), strides=(2, 2)))\n",
    "    gmodel.add(Dropout(0.2))\n",
    "\n",
    "    #Conv Layer 4\n",
    "    gmodel.add(Conv2D(64, kernel_size=(3, 3), activation='relu'))\n",
    "    gmodel.add(MaxPooling2D(pool_size=(2, 2), strides=(2, 2)))\n",
    "    gmodel.add(Dropout(0.2))\n",
    "\n",
    "    #Flatten the data for upcoming dense layers\n",
    "    gmodel.add(Flatten())\n",
    "\n",
    "    #Dense Layers\n",
    "    gmodel.add(Dense(512))\n",
    "    gmodel.add(Activation('relu'))\n",
    "    gmodel.add(Dropout(0.2))\n",
    "\n",
    "    #Dense Layer 2\n",
    "    gmodel.add(Dense(256))\n",
    "    gmodel.add(Activation('relu'))\n",
    "    gmodel.add(Dropout(0.2))\n",
    "\n",
    "    #Sigmoid Layer\n",
    "    gmodel.add(Dense(1))\n",
    "    gmodel.add(Activation('sigmoid'))\n",
    "\n",
    "    mypotim=Adam(lr=0.0001, beta_1=0.9, beta_2=0.999, epsilon=1e-08, decay=0.0)\n",
    "    gmodel.compile(loss='binary_crossentropy',\n",
    "                  optimizer=mypotim,\n",
    "                  metrics=['accuracy'])\n",
    "    # gmodel.summary()\n",
    "    return gmodel\n",
    "\n",
    "\n",
    "def get_callbacks(filepath, patience=2):\n",
    "    es = EarlyStopping('val_loss', patience=patience, mode=\"min\")\n",
    "    msave = ModelCheckpoint(filepath, save_best_only=True)\n",
    "    return [es, msave]\n",
    "model_path = cur_path + file_path + \"/model_weights.hdf5\"\n",
    "callbacks = get_callbacks(filepath=model_path, patience=5)"
   ]
  },
  {
   "cell_type": "code",
   "execution_count": 136,
   "metadata": {},
   "outputs": [],
   "source": [
    "target_train = train['is_iceberg']\n",
    "X_train_cv, X_valid, y_train_cv, y_valid = train_test_split(X_train, target_train, random_state = 1, train_size = 0.75)"
   ]
  },
  {
   "cell_type": "code",
   "execution_count": 141,
   "metadata": {},
   "outputs": [],
   "source": [
    "def train_base_helper(X_DATA, target_train = train['is_iceberg']):\n",
    "    callbacks = get_callbacks(filepath=model_path, patience=5)\n",
    "    X_train_cv, X_valid, y_train_cv, y_valid = train_test_split(X_DATA, target_train, random_state = 1, train_size = 0.8)\n",
    "    gmodel = getModel()\n",
    "    gmodel.fit(X_train_cv, y_train_cv,\n",
    "          batch_size=6,\n",
    "          epochs=100,\n",
    "          verbose=1,\n",
    "          validation_data=(X_valid, y_valid),\n",
    "          callbacks=callbacks)\n",
    "    loss, acc = gmodel.evaluate(X_valid, y_valid)\n",
    "    print(\"모델의 정확도: {:5.2f}%\".format(100*acc))"
   ]
  },
  {
   "cell_type": "code",
   "execution_count": 166,
   "metadata": {},
   "outputs": [
    {
     "name": "stdout",
     "output_type": "stream",
     "text": [
      "401/401 [==============================] - 0s 239us/step\n",
      "모델의 정확도: 88.03%\n"
     ]
    }
   ],
   "source": [
    "import os\n",
    "gmodel=getModel()\n",
    "gmodel.fit(X_train_cv, y_train_cv,\n",
    "          batch_size=12,\n",
    "          epochs=100,\n",
    "          verbose=0,\n",
    "          validation_data=(X_valid, y_valid),\n",
    "          callbacks=callbacks)\n",
    "loss, acc = gmodel.evaluate(X_valid, y_valid)\n",
    "print(\"모델의 정확도: {:5.2f}%\".format(100*acc))"
   ]
  },
  {
   "cell_type": "code",
   "execution_count": 169,
   "metadata": {},
   "outputs": [
    {
     "name": "stdout",
     "output_type": "stream",
     "text": [
      "401/401 [==============================] - 0s 253us/step\n",
      "모델의 정확도: 86.78%\n"
     ]
    }
   ],
   "source": [
    "train_base_helper(normalize_data)"
   ]
  },
  {
   "cell_type": "code",
   "execution_count": 142,
   "metadata": {},
   "outputs": [
    {
     "name": "stdout",
     "output_type": "stream",
     "text": [
      "Train on 1283 samples, validate on 321 samples\n",
      "Epoch 1/100\n",
      "1283/1283 [==============================] - 7s 5ms/step - loss: 0.6557 - acc: 0.5573 - val_loss: 0.6475 - val_acc: 0.6511\n",
      "Epoch 2/100\n",
      "1283/1283 [==============================] - 2s 2ms/step - loss: 0.5921 - acc: 0.6555 - val_loss: 0.5503 - val_acc: 0.7601\n",
      "Epoch 3/100\n",
      "1283/1283 [==============================] - 2s 2ms/step - loss: 0.5242 - acc: 0.7132 - val_loss: 0.4573 - val_acc: 0.8193\n",
      "Epoch 4/100\n",
      "1283/1283 [==============================] - 2s 1ms/step - loss: 0.4700 - acc: 0.7584 - val_loss: 0.3995 - val_acc: 0.8349\n",
      "Epoch 5/100\n",
      "1283/1283 [==============================] - 2s 1ms/step - loss: 0.4151 - acc: 0.8075 - val_loss: 0.3585 - val_acc: 0.8692\n",
      "Epoch 6/100\n",
      "1283/1283 [==============================] - 2s 1ms/step - loss: 0.3683 - acc: 0.8239 - val_loss: 0.3164 - val_acc: 0.8847\n",
      "Epoch 7/100\n",
      "1283/1283 [==============================] - 2s 1ms/step - loss: 0.3481 - acc: 0.8542 - val_loss: 0.3114 - val_acc: 0.8910\n",
      "Epoch 8/100\n",
      "1283/1283 [==============================] - 2s 1ms/step - loss: 0.3373 - acc: 0.8449 - val_loss: 0.2950 - val_acc: 0.8910\n",
      "Epoch 9/100\n",
      "1283/1283 [==============================] - 1s 1ms/step - loss: 0.3217 - acc: 0.8340 - val_loss: 0.2788 - val_acc: 0.8972\n",
      "Epoch 10/100\n",
      "1283/1283 [==============================] - 1s 1000us/step - loss: 0.3129 - acc: 0.8581 - val_loss: 0.2692 - val_acc: 0.8847\n",
      "Epoch 11/100\n",
      "1283/1283 [==============================] - 1s 1ms/step - loss: 0.3141 - acc: 0.8511 - val_loss: 0.2807 - val_acc: 0.9003\n",
      "Epoch 12/100\n",
      "1283/1283 [==============================] - 1s 982us/step - loss: 0.2929 - acc: 0.8667 - val_loss: 0.2567 - val_acc: 0.9003\n",
      "Epoch 13/100\n",
      "1283/1283 [==============================] - 1s 1ms/step - loss: 0.2833 - acc: 0.8667 - val_loss: 0.2600 - val_acc: 0.9034\n",
      "Epoch 14/100\n",
      "1283/1283 [==============================] - 1s 991us/step - loss: 0.2779 - acc: 0.8698 - val_loss: 0.2551 - val_acc: 0.9003\n",
      "Epoch 15/100\n",
      "1283/1283 [==============================] - 2s 1ms/step - loss: 0.2471 - acc: 0.8893 - val_loss: 0.2430 - val_acc: 0.9034\n",
      "Epoch 16/100\n",
      "1283/1283 [==============================] - 1s 1ms/step - loss: 0.2492 - acc: 0.8909 - val_loss: 0.2541 - val_acc: 0.9065\n",
      "Epoch 17/100\n",
      "1283/1283 [==============================] - 1s 1ms/step - loss: 0.2368 - acc: 0.8940 - val_loss: 0.2482 - val_acc: 0.9097\n",
      "Epoch 18/100\n",
      "1283/1283 [==============================] - 1s 1ms/step - loss: 0.2468 - acc: 0.8924 - val_loss: 0.2265 - val_acc: 0.9097\n",
      "Epoch 19/100\n",
      "1283/1283 [==============================] - 1s 908us/step - loss: 0.2320 - acc: 0.8979 - val_loss: 0.2228 - val_acc: 0.9221\n",
      "Epoch 20/100\n",
      "1283/1283 [==============================] - 1s 903us/step - loss: 0.2464 - acc: 0.8846 - val_loss: 0.2145 - val_acc: 0.9221\n",
      "Epoch 21/100\n",
      "1283/1283 [==============================] - 1s 930us/step - loss: 0.2330 - acc: 0.8971 - val_loss: 0.2194 - val_acc: 0.9065\n",
      "Epoch 22/100\n",
      "1283/1283 [==============================] - 1s 920us/step - loss: 0.2108 - acc: 0.8995 - val_loss: 0.2216 - val_acc: 0.9128\n",
      "Epoch 23/100\n",
      "1283/1283 [==============================] - 1s 1ms/step - loss: 0.2152 - acc: 0.9096 - val_loss: 0.2324 - val_acc: 0.9190\n",
      "Epoch 24/100\n",
      "1283/1283 [==============================] - 1s 1ms/step - loss: 0.2074 - acc: 0.9150 - val_loss: 0.2425 - val_acc: 0.9065\n",
      "Epoch 25/100\n",
      "1283/1283 [==============================] - 1s 1ms/step - loss: 0.2196 - acc: 0.9127 - val_loss: 0.2256 - val_acc: 0.9128\n",
      "321/321 [==============================] - 0s 300us/step\n",
      "모델의 정확도: 91.28%\n"
     ]
    }
   ],
   "source": [
    "train_base_helper(normalize_all_data)"
   ]
  },
  {
   "cell_type": "code",
   "execution_count": 171,
   "metadata": {},
   "outputs": [
    {
     "name": "stdout",
     "output_type": "stream",
     "text": [
      "401/401 [==============================] - 0s 240us/step\n",
      "모델의 정확도: 88.28%\n"
     ]
    }
   ],
   "source": [
    "train_base_helper(normal_img_data)"
   ]
  },
  {
   "cell_type": "code",
   "execution_count": 87,
   "metadata": {},
   "outputs": [
    {
     "name": "stdout",
     "output_type": "stream",
     "text": [
      "401/401 [==============================] - 0s 283us/step\n",
      "모델의 정확도: 73.07%\n"
     ]
    }
   ],
   "source": [
    "train_base_helper(noise_data) # normal_img_data"
   ]
  },
  {
   "cell_type": "code",
   "execution_count": 88,
   "metadata": {},
   "outputs": [
    {
     "name": "stdout",
     "output_type": "stream",
     "text": [
      "401/401 [==============================] - 0s 228us/step\n",
      "모델의 정확도: 73.32%\n"
     ]
    }
   ],
   "source": [
    "train_base_helper(noise_data_2)"
   ]
  },
  {
   "cell_type": "code",
   "execution_count": 89,
   "metadata": {},
   "outputs": [
    {
     "name": "stdout",
     "output_type": "stream",
     "text": [
      "401/401 [==============================] - 0s 277us/step\n",
      "모델의 정확도: 68.08%\n"
     ]
    }
   ],
   "source": [
    "train_base_helper(noise_data_3)"
   ]
  },
  {
   "cell_type": "code",
   "execution_count": 90,
   "metadata": {},
   "outputs": [
    {
     "name": "stdout",
     "output_type": "stream",
     "text": [
      "401/401 [==============================] - 0s 279us/step\n",
      "모델의 정확도: 85.79%\n"
     ]
    }
   ],
   "source": [
    "train_base_helper(noise_data_4) # noramlize_all_data noise"
   ]
  },
  {
   "cell_type": "code",
   "execution_count": 91,
   "metadata": {},
   "outputs": [
    {
     "name": "stdout",
     "output_type": "stream",
     "text": [
      "401/401 [==============================] - 0s 173us/step\n",
      "모델의 정확도: 83.79%\n"
     ]
    }
   ],
   "source": [
    "train_base_helper(noise_data_5)"
   ]
  },
  {
   "cell_type": "code",
   "execution_count": 92,
   "metadata": {},
   "outputs": [
    {
     "name": "stdout",
     "output_type": "stream",
     "text": [
      "401/401 [==============================] - 0s 232us/step\n",
      "모델의 정확도: 87.03%\n"
     ]
    }
   ],
   "source": [
    "train_base_helper(noise_data_6)"
   ]
  },
  {
   "cell_type": "code",
   "execution_count": 163,
   "metadata": {},
   "outputs": [
    {
     "name": "stdout",
     "output_type": "stream",
     "text": [
      "Train on 5132 samples, validate on 1284 samples\n",
      "Epoch 1/100\n",
      "5132/5132 [==============================] - 15s 3ms/step - loss: 0.6932 - acc: 0.5261 - val_loss: 0.6918 - val_acc: 0.5296\n",
      "Epoch 2/100\n",
      "5132/5132 [==============================] - 9s 2ms/step - loss: 0.6922 - acc: 0.5308 - val_loss: 0.6915 - val_acc: 0.5296\n",
      "Epoch 3/100\n",
      "5132/5132 [==============================] - 8s 2ms/step - loss: 0.6920 - acc: 0.5308 - val_loss: 0.6916 - val_acc: 0.5296\n",
      "Epoch 4/100\n",
      "5132/5132 [==============================] - 8s 2ms/step - loss: 0.6916 - acc: 0.5308 - val_loss: 0.6914 - val_acc: 0.5296\n",
      "Epoch 5/100\n",
      "5132/5132 [==============================] - 7s 1ms/step - loss: 0.6915 - acc: 0.5281 - val_loss: 0.6922 - val_acc: 0.5296\n",
      "Epoch 6/100\n",
      "5132/5132 [==============================] - 7s 1ms/step - loss: 0.6915 - acc: 0.5308 - val_loss: 0.6914 - val_acc: 0.5296\n",
      "Epoch 7/100\n",
      "5132/5132 [==============================] - 6s 1ms/step - loss: 0.6916 - acc: 0.5308 - val_loss: 0.6914 - val_acc: 0.5296\n",
      "Epoch 8/100\n",
      "5132/5132 [==============================] - 9s 2ms/step - loss: 0.6915 - acc: 0.5308 - val_loss: 0.6914 - val_acc: 0.5296\n",
      "Epoch 9/100\n",
      "5132/5132 [==============================] - 15s 3ms/step - loss: 0.6915 - acc: 0.5308 - val_loss: 0.6915 - val_acc: 0.5296\n",
      "Epoch 10/100\n",
      "5132/5132 [==============================] - 12s 2ms/step - loss: 0.6917 - acc: 0.5308 - val_loss: 0.6914 - val_acc: 0.5296\n",
      "Epoch 11/100\n",
      "5132/5132 [==============================] - 7s 1ms/step - loss: 0.6914 - acc: 0.5308 - val_loss: 0.6914 - val_acc: 0.5296\n",
      "Epoch 12/100\n",
      "5132/5132 [==============================] - 6s 1ms/step - loss: 0.6916 - acc: 0.5308 - val_loss: 0.6914 - val_acc: 0.5296\n",
      "1284/1284 [==============================] - 0s 146us/step\n",
      "모델의 정확도: 52.96%\n"
     ]
    }
   ],
   "source": [
    "train_base_helper(normal_img_rot_data, target_train=normal_img_check)"
   ]
  },
  {
   "cell_type": "code",
   "execution_count": 164,
   "metadata": {},
   "outputs": [
    {
     "name": "stdout",
     "output_type": "stream",
     "text": [
      "Train on 5132 samples, validate on 1284 samples\n",
      "Epoch 1/100\n",
      "5132/5132 [==============================] - 11s 2ms/step - loss: 0.6983 - acc: 0.5117 - val_loss: 0.6916 - val_acc: 0.5358\n",
      "Epoch 2/100\n",
      "5132/5132 [==============================] - 7s 1ms/step - loss: 0.6938 - acc: 0.5150 - val_loss: 0.6929 - val_acc: 0.5187\n",
      "Epoch 3/100\n",
      "5132/5132 [==============================] - 6s 1ms/step - loss: 0.6933 - acc: 0.5216 - val_loss: 0.6912 - val_acc: 0.5358\n",
      "Epoch 4/100\n",
      "5132/5132 [==============================] - 6s 1ms/step - loss: 0.6921 - acc: 0.5236 - val_loss: 0.6915 - val_acc: 0.5358\n",
      "Epoch 5/100\n",
      "5132/5132 [==============================] - 6s 1ms/step - loss: 0.6922 - acc: 0.5222 - val_loss: 0.6912 - val_acc: 0.5358\n",
      "Epoch 6/100\n",
      "5132/5132 [==============================] - 6s 1ms/step - loss: 0.6919 - acc: 0.5253 - val_loss: 0.6910 - val_acc: 0.5358\n",
      "Epoch 7/100\n",
      "5132/5132 [==============================] - 6s 1ms/step - loss: 0.6922 - acc: 0.5279 - val_loss: 0.6910 - val_acc: 0.5358\n",
      "Epoch 8/100\n",
      "5132/5132 [==============================] - 6s 1ms/step - loss: 0.6920 - acc: 0.5286 - val_loss: 0.6915 - val_acc: 0.5358\n",
      "Epoch 9/100\n",
      "5132/5132 [==============================] - 6s 1ms/step - loss: 0.6920 - acc: 0.5283 - val_loss: 0.6911 - val_acc: 0.5358\n",
      "Epoch 10/100\n",
      "5132/5132 [==============================] - 6s 1ms/step - loss: 0.6920 - acc: 0.5284 - val_loss: 0.6914 - val_acc: 0.5358\n",
      "Epoch 11/100\n",
      "5132/5132 [==============================] - 6s 1ms/step - loss: 0.6920 - acc: 0.5294 - val_loss: 0.6912 - val_acc: 0.5358\n",
      "1284/1284 [==============================] - 0s 143us/step\n",
      "모델의 정확도: 53.58%\n"
     ]
    }
   ],
   "source": [
    "train_base_helper(normalize_rot_data, target_train=normalize_check)"
   ]
  },
  {
   "cell_type": "code",
   "execution_count": 193,
   "metadata": {},
   "outputs": [],
   "source": [
    "datagen = ImageDataGenerator(\n",
    "    featurewise_center=True,\n",
    "    rotation_range=350,\n",
    "    width_shift_range=0.1,\n",
    "    height_shift_range=0.2,\n",
    "    zoom_range = 0.3,\n",
    "    horizontal_flip=True,\n",
    "    vertical_flip= True\n",
    ")"
   ]
  },
  {
   "cell_type": "code",
   "execution_count": 194,
   "metadata": {},
   "outputs": [],
   "source": [
    "X_train_cv, X_valid, y_train_cv, y_valid = train_test_split(normalize_all_data, target_train, random_state = 1, train_size = 0.75)\n",
    "datagen.fit(X_train_cv)"
   ]
  },
  {
   "cell_type": "code",
   "execution_count": 198,
   "metadata": {},
   "outputs": [
    {
     "name": "stdout",
     "output_type": "stream",
     "text": [
      "Epoch 1/100\n",
      "1604/1604 [==============================] - 23s 15ms/step - loss: 0.5565 - acc: 0.6873 - val_loss: 0.4757 - val_acc: 0.7880\n",
      "Epoch 2/100\n",
      "1604/1604 [==============================] - 17s 11ms/step - loss: 0.4199 - acc: 0.8025 - val_loss: 0.6392 - val_acc: 0.6584\n",
      "Epoch 3/100\n",
      "1604/1604 [==============================] - 17s 11ms/step - loss: 0.3728 - acc: 0.8282 - val_loss: 0.5044 - val_acc: 0.7880\n",
      "Epoch 4/100\n",
      "1604/1604 [==============================] - 17s 11ms/step - loss: 0.3417 - acc: 0.8450 - val_loss: 0.7398 - val_acc: 0.6284\n",
      "Epoch 5/100\n",
      "1604/1604 [==============================] - 17s 11ms/step - loss: 0.3213 - acc: 0.8565 - val_loss: 0.6332 - val_acc: 0.7057\n",
      "Epoch 6/100\n",
      "1604/1604 [==============================] - 17s 11ms/step - loss: 0.3104 - acc: 0.8618 - val_loss: 0.7019 - val_acc: 0.6958\n"
     ]
    },
    {
     "data": {
      "text/plain": [
       "<keras.callbacks.History at 0x7fbf55e81ef0>"
      ]
     },
     "execution_count": 198,
     "metadata": {},
     "output_type": "execute_result"
    }
   ],
   "source": [
    "model_gen = getModel()\n",
    "model_gen.fit_generator(datagen.flow(X_train_cv, y_train_cv, batch_size = 12),\n",
    "        steps_per_epoch=len(X_train),\n",
    "        epochs = 100,\n",
    "        verbose=1,\n",
    "        validation_data=(X_valid, y_valid),\n",
    "        callbacks = callbacks\n",
    ")"
   ]
  },
  {
   "cell_type": "code",
   "execution_count": 189,
   "metadata": {},
   "outputs": [
    {
     "name": "stdout",
     "output_type": "stream",
     "text": [
      "401/401 [==============================] - 0s 136us/step\n",
      "모델의 정확도: 65.84%\n"
     ]
    }
   ],
   "source": [
    "loss, acc = model_gen.evaluate(X_valid, y_valid)\n",
    "print(\"모델의 정확도: {:5.2f}%\".format(100*acc))"
   ]
  },
  {
   "cell_type": "code",
   "execution_count": 202,
   "metadata": {},
   "outputs": [],
   "source": [
    "datagen = ImageDataGenerator(\n",
    "    featurewise_center=True,\n",
    "    featurewise_std_normalization=True,\n",
    "    rotation_range=90,\n",
    "    horizontal_flip=True,\n",
    "    vertical_flip= True\n",
    ")"
   ]
  },
  {
   "cell_type": "code",
   "execution_count": 203,
   "metadata": {},
   "outputs": [],
   "source": [
    "X_train_cv, X_valid, y_train_cv, y_valid = train_test_split(raw_data, target_train, random_state = 1, train_size = 0.75)\n",
    "datagen.fit(X_train_cv)"
   ]
  },
  {
   "cell_type": "code",
   "execution_count": 204,
   "metadata": {},
   "outputs": [
    {
     "name": "stdout",
     "output_type": "stream",
     "text": [
      "Epoch 1/100\n",
      "1604/1604 [==============================] - 23s 14ms/step - loss: 0.5014 - acc: 0.7264 - val_loss: 1.8192 - val_acc: 0.5112\n",
      "Epoch 2/100\n",
      "1604/1604 [==============================] - 16s 10ms/step - loss: 0.3625 - acc: 0.8321 - val_loss: 7.5548 - val_acc: 0.5312\n",
      "Epoch 3/100\n",
      "1604/1604 [==============================] - 17s 10ms/step - loss: 0.3321 - acc: 0.8517 - val_loss: 7.5566 - val_acc: 0.5312\n",
      "Epoch 4/100\n",
      "1604/1604 [==============================] - 17s 10ms/step - loss: 0.3062 - acc: 0.8624 - val_loss: 7.5566 - val_acc: 0.5312\n",
      "Epoch 5/100\n",
      "1604/1604 [==============================] - 17s 10ms/step - loss: 0.2942 - acc: 0.8709 - val_loss: 7.5566 - val_acc: 0.5312\n",
      "Epoch 6/100\n",
      "1604/1604 [==============================] - 17s 10ms/step - loss: 0.2770 - acc: 0.8802 - val_loss: 7.5566 - val_acc: 0.5312\n",
      "401/401 [==============================] - 0s 130us/step\n",
      "모델의 정확도: 53.12%\n"
     ]
    }
   ],
   "source": [
    "model_gen = getModel()\n",
    "model_gen.fit_generator(datagen.flow(X_train_cv, y_train_cv, batch_size = 12),\n",
    "        steps_per_epoch=len(X_train),\n",
    "        epochs = 100,\n",
    "        verbose=1,\n",
    "        validation_data=(X_valid, y_valid),\n",
    "        callbacks = callbacks\n",
    ")\n",
    "loss, acc = model_gen.evaluate(X_valid, y_valid)\n",
    "print(\"모델의 정확도: {:5.2f}%\".format(100*acc))"
   ]
  },
  {
   "cell_type": "code",
   "execution_count": 205,
   "metadata": {},
   "outputs": [],
   "source": [
    "datagen = ImageDataGenerator(\n",
    "    featurewise_center=True,\n",
    "    featurewise_std_normalization=True,\n",
    "    rotation_range=90,\n",
    "    horizontal_flip=True,\n",
    "    vertical_flip= True\n",
    ")"
   ]
  },
  {
   "cell_type": "code",
   "execution_count": 206,
   "metadata": {},
   "outputs": [],
   "source": [
    "X_train_cv, X_valid, y_train_cv, y_valid = train_test_split(normal_img_data, target_train, random_state = 1, train_size = 0.75)\n",
    "datagen.fit(X_train_cv)"
   ]
  },
  {
   "cell_type": "code",
   "execution_count": 207,
   "metadata": {},
   "outputs": [
    {
     "name": "stdout",
     "output_type": "stream",
     "text": [
      "Epoch 1/100\n",
      "1604/1604 [==============================] - 23s 14ms/step - loss: 0.5420 - acc: 0.6918 - val_loss: 0.6818 - val_acc: 0.5461\n",
      "Epoch 2/100\n",
      "1604/1604 [==============================] - 17s 10ms/step - loss: 0.4102 - acc: 0.8076 - val_loss: 0.8502 - val_acc: 0.4688\n",
      "Epoch 3/100\n",
      "1604/1604 [==============================] - 17s 10ms/step - loss: 0.3732 - acc: 0.8301 - val_loss: 1.0489 - val_acc: 0.4688\n",
      "Epoch 4/100\n",
      "1604/1604 [==============================] - 17s 10ms/step - loss: 0.3482 - acc: 0.8421 - val_loss: 1.3107 - val_acc: 0.4688\n",
      "Epoch 5/100\n",
      "1604/1604 [==============================] - 17s 10ms/step - loss: 0.3313 - acc: 0.8522 - val_loss: 1.4491 - val_acc: 0.4688\n",
      "Epoch 6/100\n",
      "1604/1604 [==============================] - 17s 10ms/step - loss: 0.3090 - acc: 0.8640 - val_loss: 1.5850 - val_acc: 0.4688\n",
      "401/401 [==============================] - 0s 130us/step\n",
      "모델의 정확도: 46.88%\n"
     ]
    }
   ],
   "source": [
    "model_gen = getModel()\n",
    "model_gen.fit_generator(datagen.flow(X_train_cv, y_train_cv, batch_size = 12),\n",
    "        steps_per_epoch=len(X_train),\n",
    "        epochs = 100,\n",
    "        verbose=1,\n",
    "        validation_data=(X_valid, y_valid),\n",
    "        callbacks = callbacks\n",
    ")\n",
    "loss, acc = model_gen.evaluate(X_valid, y_valid)\n",
    "print(\"모델의 정확도: {:5.2f}%\".format(100*acc))"
   ]
  },
  {
   "cell_type": "code",
   "execution_count": null,
   "metadata": {},
   "outputs": [],
   "source": []
  }
 ],
 "metadata": {
  "accelerator": "GPU",
  "colab": {
   "collapsed_sections": [
    "efBxTHiQ11oP",
    "uTWna8Ck4WJO",
    "ZYlVXPjnfKG8"
   ],
   "name": "data_analysis",
   "provenance": []
  },
  "kernelspec": {
   "display_name": "Python 3",
   "language": "python",
   "name": "python3"
  },
  "language_info": {
   "codemirror_mode": {
    "name": "ipython",
    "version": 3
   },
   "file_extension": ".py",
   "mimetype": "text/x-python",
   "name": "python",
   "nbconvert_exporter": "python",
   "pygments_lexer": "ipython3",
   "version": "3.7.3"
  }
 },
 "nbformat": 4,
 "nbformat_minor": 1
}
