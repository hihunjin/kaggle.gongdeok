{
 "cells": [
  {
   "cell_type": "markdown",
   "metadata": {},
   "source": [
    "# [작성중...]Bidirectional LSTM-CRF Models for Sequences Tagging\n",
    "\n",
    "이 논문에서는 Sequence labeling 문제를 Bidirectional LSTM-CRF Model을 사용하여 state of the art 성능을 냈습니다. \n",
    "\n",
    "이 노트북에서는 논문에서 제시한 Sequence labeling에 대한 전반적인 내용(개념, 역사)을 정리하고 논문에서 제시된 방법론을 Tensorflow 2.0을 사용해 재현해 볼 예정입니다. \n",
    "\n"
   ]
  },
  {
   "cell_type": "markdown",
   "metadata": {},
   "source": [
    "## 1. 용어 정리\n",
    "\n",
    "\n",
    "### 1) Sequence tagging(=Sequence labeling)\n",
    "- Sequence로 이루어진 데이터 요소 각각에 레이블을 주는 Task\n",
    "- 여러가지 적용분야:\n",
    "    - DNA 염기서열 분석\n",
    "    - 동작 인식, 이미지 레이블링, 물체 인식\n",
    "    - 음석 인식, POS 태깅, 개체 인식, 정보 추출 \n",
    "    - Sequence로 해석될 수 있는 다양한 종류의 데이터 처리\n",
    "- NLP 에서는\n",
    "    - speech tagging (POS)\n",
    "    - chunking\n",
    "    - named entity recognition (NER)\n",
    "\n"
   ]
  },
  {
   "cell_type": "markdown",
   "metadata": {},
   "source": [
    "### Reference\n",
    "[1] [김영민 Sequence Labeling을\n",
    "위한 기계학습.pdf](http://www.hansung.ac.kr/web/sdkim/kcc2014-nlp-workshop?p_p_id=EXT_BBS&p_p_lifecycle=1&p_p_state=exclusive&p_p_mode=view&p_p_col_id=column-1&p_p_col_count=1&_EXT_BBS_struts_action=%2Fext%2Fbbs%2Fget_file&_EXT_BBS_extFileId=635976)\n"
   ]
  }
 ],
 "metadata": {
  "kernelspec": {
   "display_name": "Python 3",
   "language": "python",
   "name": "python3"
  },
  "language_info": {
   "codemirror_mode": {
    "name": "ipython",
    "version": 3
   },
   "file_extension": ".py",
   "mimetype": "text/x-python",
   "name": "python",
   "nbconvert_exporter": "python",
   "pygments_lexer": "ipython3",
   "version": "3.6.8"
  }
 },
 "nbformat": 4,
 "nbformat_minor": 2
}
