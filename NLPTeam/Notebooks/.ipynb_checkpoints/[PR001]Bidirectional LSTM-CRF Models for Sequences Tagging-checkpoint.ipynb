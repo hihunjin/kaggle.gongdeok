{
 "cells": [
  {
   "cell_type": "markdown",
   "metadata": {},
   "source": [
    "# [작성중...]Bidirectional LSTM-CRF Models for Sequences Tagging\n"
   ]
  },
  {
   "cell_type": "markdown",
   "metadata": {},
   "source": [
    "## 1. Introduction\n",
    "\n",
    "\n",
    "### 1) Sequence tagging(=Sequence labeling)\n",
    "\n",
    "&nbsp;길이가 $n$인 sequence, $x=[x_{1}, x_{2},...,x_{n}]$에 대해서, 같은 길이의 $y=[y_{1}, y_{2},...,y_{n}]$를 출력해야 하는 Task를 Sequence tagging(=Sequence labeling)이라고 합니다. \n",
    "\n",
    "1. NLP Sequence labeling task\n",
    "    - speech tagging (POS)\n",
    "    - chunking\n",
    "    - named entity recognition (NER)\n",
    "    ![POS](./res/PR001/pos.jpg)\n",
    "    \n",
    "    \n",
    "2. 다른 분야의 Sequence labeling task\n",
    "    - DNA 염기서열 분석\n",
    "    - 동작 인식, 이미지 레이블링, 물체 인식\n",
    "    - 음석 인식, POS 태깅, 개체 인식, 정보 추출 \n",
    "    - Sequence로 해석될 수 있는 다양한 종류의 데이터 처리\n",
    "\n",
    "### 2) Exsisting sequence tagging models\n",
    "1. Linear statistical models \n",
    "    1. Hidden-Markov Models \n",
    "    2. Maximum entropy Markov models\n",
    "    3. Conditional Random Fields (CRF)\n",
    "    \n",
    "2. Neural network based models\n",
    "    1. Convolutional-CRF\n",
    "    2. Convolutional-RNN,LSTM \n",
    "    3. Bidirectoinal-RNN,LSTM\n",
    "\n",
    "### 3) Proposed models in paper\n",
    "&nbsp;논문에서 제시한 최종 모델은 BiLSTM-CRM 모델인데, Word Embedding에 덜 의존적이면서, POS, Chunking, NER에서 State of the art 성능을 내었다고 합니다. \n",
    "\n",
    "1. LSTM\n",
    "2. Bi-LSTM\n",
    "3. LSTM-CRM\n",
    "4. bi-LSTM-CRM \n"
   ]
  },
  {
   "cell_type": "markdown",
   "metadata": {},
   "source": [
    "## 2. Models\n",
    "&nbsp;논문을 읽으면서 가장 좋았던 점은 RNN, LSTM 모델들의 정의를 한번더 정리할 수 있었던 점입니다. 지금부터는 RNN, LSTM, CRF 모델들에대한 직관과 수학적 정의를 짚어볼 것입니다. \n",
    "\n",
    "### 2.0 RNN Networks\n",
    "&nbsp;RNN 모델은 언어모델, 음성인식 분야에서 보장된 결과를 많이 만들어 왔습니다. RNN의 특징은 history information을 저장하는 Memory 학습하고, 이용해서 현재의 알맞는 예측, 분류 Output을 출력합니다. \n",
    "\n",
    "&nbsp;논문에서 제시된 문제는 named entity recognition (NER)니다. 아래 문장이 입력 시퀀스로 주어졌을때, 각각에 맞는 Named entity를 출력하는 문제입니다. \n",
    "\n",
    "입력문장은 \"EU rejects German call to boycott British lamb.\" 이고<br>\n",
    "Named entity tags는 O(Other) 혹은 Person(PER), Location(LOC), Organization(ORG) 그리고 Miscellaneus (MISC)입니다. 추가로, tag앞에 B-, I-가 붙는데 개체의 위치가 중간인지 처음인지를 나타내는 지표라고 합니다. \n",
    "\n",
    "![Figure1 A simple RNN model.](./res/PR001/figure1_RNN.png)\n",
    "\n",
    "그림과 같이 RNN은 입력층 x, 은닉층 h, 출력층 y로 구성되어 있습니다. 입력부터 출력까지의 연산의 정의는 아래와 같습니다. \n",
    "\n",
    "$h(t) = f(U*x(t)+W*h(t-1))$<br>\n",
    "$y(h) = g(V*h(t))$<br>\n",
    "\n",
    "여기서 $U$, $W$, $V$는 Connection weights이며, $f()$는 sigmoid, $g()$는 softmat 함수 입니다."
   ]
  },
  {
   "cell_type": "markdown",
   "metadata": {},
   "source": [
    "### 2.1 LSTM Networks \n",
    "&nbsp;LSTM(Long Short-Term Memory)은 RNN과 동일하지만, 장기적인 종속성을 학습할 수 있는 특징이 있습니다. \n",
    "<center><img src=\"./res/PR001/lstm.png\" width=\"300\" height=\"300\"></center>\n",
    "\n",
    "&nbsp;맨 위에 컨베이너 벨트처럼 흐르는 $C$값이 cell state이며, LSTM은 이 cell state를 보호하고 컨트롤 하기 위한 세 가지 게이트: forget, input, output gate를 통해 vanishing gradient를 방지하고 그래디언트가 효과적으로 흐를 수 있게 합니다.\n",
    "\n",
    "- __forget gate $f_{t}$__ 는 말그대로 ‘과거 정보를 잊기’위한 게이트다. 시그모이드 함수의 출력 범위는 0 ~ 1 이기 때문에 그 값이 0이라면 이전 상태의 정보는 잊고, 1이라면 이전 상태의 정보를 온전히 기억하게 됩니다.\n",
    "\n",
    "- __input gate $i_{t}$__는 ‘현재 정보를 기억하기’위한 게이트다. 이 값은 시그모이드 이므로 0 ~ 1 이지만 hadamard product를 하는 $\\tilde{c}_{t}$는 hyperbolic tangent 결과이므로 -1 ~ 1 이 된다. 따라서 결과는 음수가 될 \\tilde{a} 수도 있습니다.\n",
    "- __output gate__ $o_{t}$는 최종 결과 $h_{t}$를 위한 게이트이며, cell state의 hyperbolic tangent를 hadamard product한 값이 LSTM의 최종 결과가 된다.\n",
    "\n",
    "__LSTM 수식__<br>\n",
    "$f_{t}=  \\sigma_{g}(W_{f}x_{t}+U_{f}h_{t-1}+b_{f})$<br>\n",
    "$i_{t}=  \\sigma_{g}(W_{i}x_{t}+U_{i}h_{t-1}+b_{i})$<br>\n",
    "$i_{o}=  \\sigma_{g}(W_{o}x_{t}+U_{o}h_{t-1}+b_{o})$<br>\n",
    "$c_{t}=f_{t} \\circ c_{t-1}+i_{t} \\circ \\sigma_{c}(W_{c}x_{t}+U_ch_{t-1}+b_{c})$<br>\n",
    "$h_{t}=o_{t} \\circ \\sigma_{h}(C_{t})$<br>\n",
    "\n"
   ]
  },
  {
   "cell_type": "markdown",
   "metadata": {},
   "source": [
    "### 2.2 Bidirectional LSTM Networks \n",
    "&nbsp;__LSTM cel__l이 __단방향 입력 단어들의 문맥__을 학습한다면, __Bidirectional LSTM cell__(이하 BiLSTM)은 특정 시간프레임 안에서 __양방향 입력 단어들의 문맥__을 학습합니다. BiLSTM의 구조는 하나의 LSTM과 Reverse된 LSTM이 병렬로 입출력에 연결되어 있는 형태입니다. 논문에서는 이를 각각 Forward pass 와 Backward pass로 정의합니다.\n",
    "\n",
    "<center><img src=\"./res/PR001/BiLSTM.png\" width=\"300\" height=\"300\"></center>\n",
    "\n",
    "&nbsp;Sequence Tagging을 위해 논문에서 BiLSTM을 학습시키는 노하우로 문장의 시작점에서만 BiLSTM의 hidden state를 0으로 초기화 하는 것입니다.\n",
    "\n"
   ]
  },
  {
   "cell_type": "markdown",
   "metadata": {},
   "source": [
    "### 2.3 CRF networks \n",
    "&nbsp;이웃한 태그(이하 출력 단어) 정보를 학습하는 두가지 방법을 소개합니다.\n",
    "1. Maximum entrtopy classifier, Maximum entropy Markov models(MEMMs)\n",
    "2. Conditional Random Fileds(CRF)\n",
    "\n",
    "&nbsp;위 두가지 선형 통계 모델은 오래전부터 Sequence tagging 분야에서 사랑받아오던 모델입니다. Sequence tagging문제를 $P(y_{1:n}|x_{1:n})$으로 정의한다면, MEMMs와 CRF모델의 수식은 아래와 같습니다. \n",
    "\n",
    "__MEMMs__<br>\n",
    "$$P(y_{1:n}|x_{1:n}) = \\prod_{i=1}^n{ \\frac{exp( \\sum_{j=1}^m f_{j}(x,i,y_{i}, y_{i-1}) )}{\\sum_{y'} exp(\\sum_{j=1}^m  \\lambda _{j}f_{j}(x,i,y'_{i}, y'_{i-1}))}  }$$\n",
    "\n",
    "__CRF__<br> \n",
    "$$P(y_{1:n}|x_{1:n}) = \\prod_{i=1}^n{ \\frac{exp(\\sum_{j=1}^{m}\\sum_{i=1}^{n}\\lambda _{j}f_{j}(x,i,y_{i}, y_{i-1}))  )}{\\sum_{y'}exp(\\sum_{j=1}^{m}\\sum_{i=1}^{n}\\lambda _{j}f_{j}(x,i,y'_{i}, y'_{i-1})))}  }$$"
   ]
  },
  {
   "cell_type": "markdown",
   "metadata": {},
   "source": [
    "### 2.4 LSTM-CRF networks\n",
    "&nbsp; 결과적으로 LSTM과 CRF모델을 함께 사용하면, __LSTM Layer는 입력 문장의 단방향 문맥을 학습__하고, __CRF Layer는 출력 Tag 시퀀스의 문맥을 학습__하는 것이 됩니다. __CRF Layer는 state transition matrix__를 파라미터로 가지고 있습니다. 그로인해 현재 Tag를 예측하기 위해 미래의 태그와 과거의 Tag의 관계를 연산하게 됩니다. 아래는 LSTM-CRF network의 수학적 정의입니다.\n",
    "\n",
    "__LSTM-CRF networks__<br>\n",
    "$$s([x]_1^T, [i]_1^T, \\tilde{\\theta}) =   \\sum_{t=1}^{T}([A]_{[i]_{t-1},[i]_{t}}+[f_{\\theta}]_{[i]_{t-1},[i]_{t}})$$\n",
    "\n",
    "- LSTM network's input sequence: $[x]_{T}^{1}$ \n",
    "- LSTM network's output matrix:  $f_{ \\theta }( [x]_{T}^{1})$ \n",
    "- Elements of output matrix:  $[f_{\\theta}]_{i,t}$\n",
    "- LSTM network's parameter: $\\theta$\n",
    "- LSTM-CRF networks' parameter :  $\\tilde{\\theta} =\\theta \\cup \\{[A]_{i,j} \\forall i, j\\}$\n",
    "- LSTM-CRF network's output: $[i]_1^T$\n",
    "- Transoition score: $[A]_{i,j}$<br>\n",
    "i~j번째까지의 time steps의 연이은 변화를 모델링 하기위한 Matrix score입니다.\n",
    "\n",
    "아래의 그림은 양방향 LSTM + CRF 모델을 보여줍니다.\n",
    "<center><img src=\"./res/PR001/BiSLTM-CRF.png\" width=\"300\" height=\"300\"></center>\n",
    "\n",
    "기존에 CRF 층이 존재하지 않았던 LSTM 모델은 활성화 함수를 지난 시점에서 개체명을 결정했지만, CRF 층을 추가한 모델에서는 활성화 함수의 결과들이 CRF 층의 입력으로 전달됩니다. CRF 층은 레이블 시퀀스에 대해서 Transoition score와 LSTM 모델의 출력을 합쳐 가장 높은 점수를 가지는 시퀀스를 예측합니다."
   ]
  },
  {
   "cell_type": "markdown",
   "metadata": {},
   "source": [
    "### 2.5 BI-LSTM-CRF networks \n",
    "&nbsp;이론은 LSTM-CRF와 동일하며, 입력문장의 양방향 문맥을 학습한다는 특징이 있습니다. 이 이후부터는 BiLSTM-CRF 모델을 설계하고, 간단한 개체명 Named Entity Recognition을 진행해 보도록 하겠습니다. "
   ]
  },
  {
   "cell_type": "markdown",
   "metadata": {},
   "source": [
    "## 4. Experiments \n",
    "\n",
    "아래 내용은 [딥러닝을 이용한 자연어 처리 입문](https://wikidocs.net/book/2155)의 예제 코드입니다.\n",
    "### 4.1 Data download\n",
    "__논문에서 사용한 데이터__\n",
    "- [Penn TreeBank(PTB)](https://www.ling.upenn.edu/courses/Fall_2003/ling001/penn_treebank_pos.html) POS tagging \n",
    "- [CoNLL-2000 Shared Task Chunking](https://www.aclweb.org/anthology/W00-0726/)\n",
    "- [CoNLL-2003 Language-Independent Named Entity Recognition (II)](https://www.clips.uantwerpen.be/conll2003/ner/)\n",
    "\n",
    "__노트북에서 실험을 위해 사용할 데이터__ \n",
    "- [Kaggle dataset: Annotated Corpus for Named Entity Recognition](https://www.kaggle.com/abhinavwalia95/entity-annotated-corpus)\n",
    "\n"
   ]
  },
  {
   "cell_type": "markdown",
   "metadata": {},
   "source": [
    "### 4.2 Load data set "
   ]
  },
  {
   "cell_type": "code",
   "execution_count": 1,
   "metadata": {},
   "outputs": [
    {
     "name": "stdout",
     "output_type": "stream",
     "text": [
      "number of rows: 1048575\n",
      "[Show data samples]\n"
     ]
    },
    {
     "data": {
      "text/html": [
       "<div>\n",
       "<style scoped>\n",
       "    .dataframe tbody tr th:only-of-type {\n",
       "        vertical-align: middle;\n",
       "    }\n",
       "\n",
       "    .dataframe tbody tr th {\n",
       "        vertical-align: top;\n",
       "    }\n",
       "\n",
       "    .dataframe thead th {\n",
       "        text-align: right;\n",
       "    }\n",
       "</style>\n",
       "<table border=\"1\" class=\"dataframe\">\n",
       "  <thead>\n",
       "    <tr style=\"text-align: right;\">\n",
       "      <th></th>\n",
       "      <th>Sentence #</th>\n",
       "      <th>Word</th>\n",
       "      <th>Tag</th>\n",
       "    </tr>\n",
       "  </thead>\n",
       "  <tbody>\n",
       "    <tr>\n",
       "      <td>0</td>\n",
       "      <td>Sentence: 1</td>\n",
       "      <td>Thousands</td>\n",
       "      <td>O</td>\n",
       "    </tr>\n",
       "    <tr>\n",
       "      <td>1</td>\n",
       "      <td>Sentence: 1</td>\n",
       "      <td>of</td>\n",
       "      <td>O</td>\n",
       "    </tr>\n",
       "    <tr>\n",
       "      <td>2</td>\n",
       "      <td>Sentence: 1</td>\n",
       "      <td>demonstrators</td>\n",
       "      <td>O</td>\n",
       "    </tr>\n",
       "  </tbody>\n",
       "</table>\n",
       "</div>"
      ],
      "text/plain": [
       "    Sentence #           Word Tag\n",
       "0  Sentence: 1      Thousands   O\n",
       "1  Sentence: 1             of   O\n",
       "2  Sentence: 1  demonstrators   O"
      ]
     },
     "execution_count": 1,
     "metadata": {},
     "output_type": "execute_result"
    }
   ],
   "source": [
    "import numpy as np\n",
    "import pandas as pd\n",
    "\n",
    "#-- Input 'ner_dataset.csv' file's path ---------\n",
    "ner_dataset = '../../../kaggle.dataset/entity-annotated-corpus/ner_dataset.csv'\n",
    "#------------------------------------------------\n",
    "data = pd.read_csv(ner_dataset, encoding=\"latin1\")\n",
    "data = data.fillna(method=\"ffill\")\n",
    "del data['POS']# 품사태깅(POS)는 고려X\n",
    "\n",
    "print(f\"number of rows: {len(data)}\")\n",
    "print(f\"[Show data samples]\")\n",
    "data.head(3)"
   ]
  },
  {
   "cell_type": "markdown",
   "metadata": {},
   "source": [
    "### 4.3 EDA NER data set"
   ]
  },
  {
   "cell_type": "code",
   "execution_count": 2,
   "metadata": {},
   "outputs": [
    {
     "name": "stdout",
     "output_type": "stream",
     "text": [
      "[Show uniqueness]\n",
      "1. Sentence : 47959\n",
      "2. Word     : 35178\n",
      "3. Tag      :    17\n"
     ]
    }
   ],
   "source": [
    "print(f\"[Show uniqueness]\")\n",
    "print(f\"1. Sentence :{data['Sentence #'].nunique():>6}\")\n",
    "print(f\"2. Word     :{data.Word.nunique():>6}\")\n",
    "print(f\"3. Tag      :{data.Tag.nunique():>6}\")"
   ]
  },
  {
   "cell_type": "code",
   "execution_count": 3,
   "metadata": {},
   "outputs": [
    {
     "name": "stdout",
     "output_type": "stream",
     "text": [
      "Let's see tags\n",
      "      Tag   count\n",
      "0   B-art     402\n",
      "1   B-eve     308\n",
      "2   B-geo   37644\n",
      "3   B-gpe   15870\n",
      "4   B-nat     201\n",
      "5   B-org   20143\n",
      "6   B-per   16990\n",
      "7   B-tim   20333\n",
      "8   I-art     297\n",
      "9   I-eve     253\n",
      "10  I-geo    7414\n",
      "11  I-gpe     198\n",
      "12  I-nat      51\n",
      "13  I-org   16784\n",
      "14  I-per   17251\n",
      "15  I-tim    6528\n",
      "16      O  887908\n"
     ]
    }
   ],
   "source": [
    "print(\"Let's see tags\")\n",
    "print(data.groupby('Tag').size().reset_index(name='count'))"
   ]
  },
  {
   "cell_type": "code",
   "execution_count": 4,
   "metadata": {},
   "outputs": [
    {
     "name": "stdout",
     "output_type": "stream",
     "text": [
      "Set voca counts:  31817\n",
      "Set tags counts:     17\n"
     ]
    }
   ],
   "source": [
    "data['Word'] = data['Word'].str.lower()\n",
    "voca =list(set(data[\"Word\"].values))\n",
    "tags = list(set(data[\"Tag\"].values)) \n",
    "\n",
    "print(f\"Set voca counts: {len(voca):>6}\")\n",
    "print(f\"Set tags counts: {len(tags):>6}\")\n"
   ]
  },
  {
   "cell_type": "code",
   "execution_count": 5,
   "metadata": {},
   "outputs": [
    {
     "name": "stdout",
     "output_type": "stream",
     "text": [
      "[Generate tag pairs]\n",
      "number of pairs: 47959\n",
      "\n",
      "[Sampe pair | num of element: 24]\n",
      "[('thousands', 'O'), ('of', 'O'), ('demonstrators', 'O'), ('have', 'O'), ('marched', 'O'), ('through', 'O'), ('london', 'B-geo'), ('to', 'O'), ('protest', 'O'), ('the', 'O'), ('war', 'O'), ('in', 'O'), ('iraq', 'B-geo'), ('and', 'O'), ('demand', 'O'), ('the', 'O'), ('withdrawal', 'O'), ('of', 'O'), ('british', 'B-gpe'), ('troops', 'O'), ('from', 'O'), ('that', 'O'), ('country', 'O'), ('.', 'O')]\n"
     ]
    }
   ],
   "source": [
    "print(\"[Generate tag pairs]\")\n",
    "\n",
    "func = lambda data: [\n",
    "    (w, t) for w, t in zip(\n",
    "        data[\"Word\"].values.tolist(), \n",
    "        data[\"Tag\"].values.tolist())]\n",
    "\n",
    "All_data=[wt_pair \n",
    "    for wt_pair in data.groupby(\"Sentence #\").apply(func)]\n",
    "\n",
    "print(f\"number of pairs: {len(All_data)}\\n\")\n",
    "\n",
    "print(f\"[Sampe pair | num of element: {len(All_data[0])}]\")\n",
    "print(All_data[0])\n"
   ]
  },
  {
   "cell_type": "code",
   "execution_count": 6,
   "metadata": {},
   "outputs": [
    {
     "name": "stdout",
     "output_type": "stream",
     "text": [
      "샘플의 최대 길이: 104\n",
      "샘플의 평균 길이: 21.86\n"
     ]
    },
    {
     "data": {
      "image/png": "[encoded data removed]",
      "text/plain": [
       "<Figure size 432x288 with 1 Axes>"
      ]
     },
     "metadata": {
      "needs_background": "light"
     },
     "output_type": "display_data"
    }
   ],
   "source": [
    "%matplotlib inline\n",
    "import matplotlib.pyplot as plt\n",
    "\n",
    "print(f'샘플의 최대 길이: {max(len(l) for l in All_data)}')\n",
    "print(f'샘플의 평균 길이: {sum(map(len, All_data))/len(All_data):0.2f}')\n",
    "\n",
    "plt.hist([len(s) for s in All_data], bins=50)\n",
    "plt.xlabel('length of samples')\n",
    "plt.ylabel('number of samples')\n",
    "plt.show()"
   ]
  },
  {
   "cell_type": "code",
   "execution_count": 7,
   "metadata": {},
   "outputs": [],
   "source": [
    "import numpy as np\n",
    "\n",
    "sentences, ner_tags =[], []\n",
    "for tagged_sentence in All_data:\n",
    "    # 각 샘플에서 단어는 sentence에 개체명 태깅정보는 ner_info에\n",
    "    sentence, ner_info = zip(*tagged_sentence)\n",
    "    # 각 샘플에서 단어 정보만 저장한다.\n",
    "    sentences.append(np.array(sentence))\n",
    "    # 각 샘플에서 개체명 태깅 정보만 저장한다.\n",
    "    ner_tags.append(np.array(ner_info))"
   ]
  },
  {
   "cell_type": "code",
   "execution_count": 8,
   "metadata": {},
   "outputs": [],
   "source": [
    "from collections import Counter\n",
    "vocab=Counter()\n",
    "tag_set=set()\n",
    "\n",
    "for sentence in sentences: # 훈련 데이터 X에서 샘플을 1개씩 꺼내온다.\n",
    "    for word in sentence: # 샘플에서 단어를 1개씩 꺼내온다.\n",
    "        vocab[word.lower()]=vocab[word.lower()]+1 # 각 단어의 빈도수를 카운트한다.\n",
    "\n",
    "for tags_list in ner_tags: # 훈련 데이터 y에서 샘플을 1개씩 꺼내온다.\n",
    "    for tag in tags_list: # 샘플에서 개체명 정보를 1개씩 꺼내온다.\n",
    "        tag_set.add(tag) # 각 개체명 정보에 대해서 중복을 허용하지 않고 집합을 만든다."
   ]
  },
  {
   "cell_type": "code",
   "execution_count": 9,
   "metadata": {
    "scrolled": true
   },
   "outputs": [
    {
     "name": "stdout",
     "output_type": "stream",
     "text": [
      "31817\n",
      "17\n"
     ]
    }
   ],
   "source": [
    "print(len(vocab)) # X 데이터의 단어 집합의 크기 출력\n",
    "print(len(tag_set)) # y 데이터의 집합의 크기 출력 (개체명 태깅 정보의 종류 출력)"
   ]
  },
  {
   "cell_type": "code",
   "execution_count": 10,
   "metadata": {},
   "outputs": [],
   "source": [
    "vocab_sorted=sorted(vocab.items(), key=lambda x:x[1], reverse=True)"
   ]
  },
  {
   "cell_type": "code",
   "execution_count": 11,
   "metadata": {},
   "outputs": [
    {
     "name": "stdout",
     "output_type": "stream",
     "text": [
      "31819\n"
     ]
    }
   ],
   "source": [
    "word_to_index={'PAD' : 0, 'OOV' :1}\n",
    "i=1\n",
    "# 인덱스 0은 각각 입력값들의 길이를 맞추기 위한 PAD(padding을 의미)라는 단어에 사용된다.\n",
    "# 인덱스 1은 모르는 단어를 의미하는 OOV라는 단어에 사용된다.\n",
    "for (word, frequency) in vocab_sorted :\n",
    "    # if frequency > 1 :\n",
    "    # 빈도수가 1인 단어를 제거하는 것도 가능하겠지만 이번에는 별도 수행하지 않고 진행함.\n",
    "        i=i+1\n",
    "        word_to_index[word]=i\n",
    "print(len(word_to_index))"
   ]
  },
  {
   "cell_type": "code",
   "execution_count": 12,
   "metadata": {},
   "outputs": [],
   "source": [
    "data_X = []\n",
    "\n",
    "for s in sentences: # 전체 데이터에서 하나의 데이터. 즉, 하나의 문장씩 불러옵니다.\n",
    "    temp_X = []\n",
    "    for w in s: # 각 문장에서 각 단어를 불러옵니다.\n",
    "        temp_X.append(word_to_index.get(w,1)) # 각 단어를 맵핑되는 인덱스로 변환합니다.\n",
    "    data_X.append(temp_X)"
   ]
  },
  {
   "cell_type": "code",
   "execution_count": 13,
   "metadata": {},
   "outputs": [
    {
     "name": "stdout",
     "output_type": "stream",
     "text": [
      "{'PAD': 0, 'B-tim': 1, 'I-geo': 2, 'B-geo': 3, 'B-art': 4, 'I-gpe': 5, 'B-org': 6, 'I-per': 7, 'B-gpe': 8, 'I-org': 9, 'B-nat': 10, 'B-eve': 11, 'I-nat': 12, 'O': 13, 'I-eve': 14, 'I-art': 15, 'I-tim': 16, 'B-per': 17}\n"
     ]
    }
   ],
   "source": [
    "tag_to_index={'PAD' : 0}\n",
    "i=0\n",
    "for tag in tag_set:\n",
    "    i=i+1\n",
    "    tag_to_index[tag]=i\n",
    "print(tag_to_index)"
   ]
  },
  {
   "cell_type": "code",
   "execution_count": 14,
   "metadata": {},
   "outputs": [
    {
     "name": "stdout",
     "output_type": "stream",
     "text": [
      "[13, 13, 13, 13, 13, 13, 3, 13, 13, 13, 13, 13, 3, 13, 13, 13, 13, 13, 8, 13, 13, 13, 13, 13]\n"
     ]
    }
   ],
   "source": [
    "data_y = []\n",
    "for s in ner_tags:\n",
    "    temp_y = []\n",
    "    for w in s:\n",
    "            temp_y.append(tag_to_index.get(w))\n",
    "    data_y.append(temp_y)\n",
    "print(data_y[0]) # 첫번째 데이터 출력"
   ]
  },
  {
   "cell_type": "code",
   "execution_count": 18,
   "metadata": {},
   "outputs": [],
   "source": [
    "max_len=70\n",
    "from keras.preprocessing.sequence import pad_sequences\n",
    "pad_X = pad_sequences(data_X, padding='post', maxlen=max_len)\n",
    "# data_X의 모든 샘플의 길이를 패딩할 때 뒤의 공간에 숫자 0으로 채움.\n",
    "pad_y = pad_sequences(data_y, padding='post', value=tag_to_index['PAD'], maxlen=max_len)\n",
    "# data_y의 모든 샘플의 길이를 패딩할 때 'PAD'에 해당되는 인덱스로 채움.\n",
    "# 결과적으로 'PAD'의 인덱스값인 0으로 패딩된다."
   ]
  },
  {
   "cell_type": "code",
   "execution_count": 19,
   "metadata": {},
   "outputs": [],
   "source": [
    "from sklearn.model_selection import train_test_split\n",
    "X_train, X_test, y_train, y_test = train_test_split(pad_X, pad_y, test_size=.1, random_state=777)"
   ]
  },
  {
   "cell_type": "code",
   "execution_count": 20,
   "metadata": {},
   "outputs": [],
   "source": [
    "from keras.models import Sequential\n",
    "from keras.layers import LSTM, Embedding, Dense, TimeDistributed, Dropout, Bidirectional\n",
    "from keras_contrib.layers import CRF"
   ]
  },
  {
   "cell_type": "code",
   "execution_count": 21,
   "metadata": {},
   "outputs": [],
   "source": [
    "n_words = len(word_to_index)\n",
    "n_labels = len(tag_to_index)"
   ]
  },
  {
   "cell_type": "code",
   "execution_count": 23,
   "metadata": {},
   "outputs": [
    {
     "name": "stdout",
     "output_type": "stream",
     "text": [
      "_________________________________________________________________\n",
      "Layer (type)                 Output Shape              Param #   \n",
      "=================================================================\n",
      "embedding_2 (Embedding)      (None, 70, 20)            636380    \n",
      "_________________________________________________________________\n",
      "bidirectional_2 (Bidirection (None, 70, 100)           28400     \n",
      "_________________________________________________________________\n",
      "time_distributed_2 (TimeDist (None, 70, 50)            5050      \n",
      "_________________________________________________________________\n",
      "crf_2 (CRF)                  (None, 70, 18)            1278      \n",
      "=================================================================\n",
      "Total params: 671,108\n",
      "Trainable params: 671,108\n",
      "Non-trainable params: 0\n",
      "_________________________________________________________________\n"
     ]
    }
   ],
   "source": [
    "model = Sequential()\n",
    "model.add(Embedding(input_dim=n_words, output_dim=20, input_length=max_len, mask_zero=True))\n",
    "model.add(Bidirectional(LSTM(units=50, return_sequences=True, recurrent_dropout=0.1)))\n",
    "model.add(TimeDistributed(Dense(50, activation=\"relu\")))\n",
    "crf = CRF(n_labels)\n",
    "model.add(crf)\n",
    "model.summary()"
   ]
  },
  {
   "cell_type": "code",
   "execution_count": 24,
   "metadata": {},
   "outputs": [
    {
     "data": {
      "text/plain": [
       "array([0., 0., 0., 0., 0., 0., 0., 0., 0., 0., 0., 0., 0., 1., 0., 0., 0.,\n",
       "       0.], dtype=float32)"
      ]
     },
     "execution_count": 24,
     "metadata": {},
     "output_type": "execute_result"
    }
   ],
   "source": [
    "from keras.utils import np_utils\n",
    "y_train = np_utils.to_categorical(y_train) #원-핫 인코딩\n",
    "y_train[0][0]"
   ]
  },
  {
   "cell_type": "code",
   "execution_count": 26,
   "metadata": {
    "scrolled": true
   },
   "outputs": [
    {
     "name": "stdout",
     "output_type": "stream",
     "text": [
      "WARNING:tensorflow:From c:\\users\\paulkim11\\envs\\kaggle\\lib\\site-packages\\keras\\backend\\tensorflow_backend.py:986: The name tf.assign_add is deprecated. Please use tf.compat.v1.assign_add instead.\n",
      "\n",
      "Train on 38846 samples, validate on 4317 samples\n",
      "Epoch 1/5\n",
      "38846/38846 [==============================] - 203s 5ms/step - loss: 8.3590 - crf_viterbi_accuracy: 0.8965 - val_loss: 8.1361 - val_crf_viterbi_accuracy: 0.9430\n",
      "Epoch 2/5\n",
      "38846/38846 [==============================] - 252s 6ms/step - loss: 8.1277 - crf_viterbi_accuracy: 0.9500 - val_loss: 8.0855 - val_crf_viterbi_accuracy: 0.9542\n",
      "Epoch 3/5\n",
      "38846/38846 [==============================] - 277s 7ms/step - loss: 8.0980 - crf_viterbi_accuracy: 0.9579 - val_loss: 8.0731 - val_crf_viterbi_accuracy: 0.9563\n",
      "Epoch 4/5\n",
      "38846/38846 [==============================] - 242s 6ms/step - loss: 8.0855 - crf_viterbi_accuracy: 0.9618 - val_loss: 8.0660 - val_crf_viterbi_accuracy: 0.9571\n",
      "Epoch 5/5\n",
      "38846/38846 [==============================] - 250s 6ms/step - loss: 8.0780 - crf_viterbi_accuracy: 0.9641 - val_loss: 8.0650 - val_crf_viterbi_accuracy: 0.9557\n"
     ]
    }
   ],
   "source": [
    "model.compile(optimizer=\"rmsprop\", loss=crf.loss_function, metrics=[crf.accuracy])\n",
    "history = model.fit(X_train, y_train, batch_size=32, epochs=5, validation_split=0.1, verbose=1)"
   ]
  },
  {
   "cell_type": "code",
   "execution_count": 27,
   "metadata": {},
   "outputs": [
    {
     "name": "stdout",
     "output_type": "stream",
     "text": [
      "4796/4796 [==============================] - 12s 2ms/step\n",
      "\n",
      " 테스트 정확도: 0.9579\n"
     ]
    }
   ],
   "source": [
    "y_test = np_utils.to_categorical(y_test)\n",
    "print(\"\\n 테스트 정확도: %.4f\" % (model.evaluate(X_test, y_test)[1]))"
   ]
  },
  {
   "cell_type": "code",
   "execution_count": 28,
   "metadata": {},
   "outputs": [
    {
     "name": "stdout",
     "output_type": "stream",
     "text": [
      "단어             |실제값  |예측값\n",
      "-----------------------------------\n",
      "the              : O       O\n",
      "statement        : O       O\n",
      "came             : O       O\n",
      "as               : O       O\n",
      "u.n.             : B-org   B-org\n",
      "secretary-general: I-org   I-org\n",
      "kofi             : B-per   B-per\n",
      "annan            : I-per   I-per\n",
      "met              : O       O\n",
      "with             : O       O\n",
      "officials        : O       O\n",
      "in               : O       O\n",
      "amman            : B-geo   B-geo\n",
      "to               : O       O\n",
      "discuss          : O       O\n",
      "wednesday        : B-tim   B-tim\n",
      "'s               : O       O\n",
      "attacks          : O       O\n",
      ".                : O       O\n"
     ]
    }
   ],
   "source": [
    "index_to_word={}\n",
    "for key, value in word_to_index.items():\n",
    "    index_to_word[value] = key\n",
    "\n",
    "index_to_tag={}\n",
    "for key, value in tag_to_index.items():\n",
    "    index_to_tag[value] = key\n",
    "\n",
    "\n",
    "i=13 # 확인하고 싶은 테스트용 샘플의 인덱스.\n",
    "y_predicted = model.predict(np.array([X_test[i]])) # 입력한 테스트용 샘플에 대해서 예측 y를 리턴\n",
    "y_predicted = np.argmax(y_predicted, axis=-1) # 원-핫 인코딩을 다시 정수 인코딩으로 변경함.\n",
    "true = np.argmax(y_test[i], -1) # 원-핫 인코딩을 다시 정수 인코딩으로 변경함.\n",
    "\n",
    "print(\"{:15}|{:5}|{}\".format(\"단어\", \"실제값\", \"예측값\"))\n",
    "print(35 * \"-\")\n",
    "\n",
    "for w, t, pred in zip(X_test[i], true, y_predicted[0]):\n",
    "    if w != 0: # PAD값은 제외함.\n",
    "        print(\"{:17}: {:7} {}\".format(index_to_word[w], index_to_tag[t], index_to_tag[pred]))"
   ]
  },
  {
   "cell_type": "code",
   "execution_count": 29,
   "metadata": {},
   "outputs": [
    {
     "data": {
      "image/png": "[encoded data removed]",
      "text/plain": [
       "<Figure size 432x288 with 1 Axes>"
      ]
     },
     "metadata": {
      "needs_background": "light"
     },
     "output_type": "display_data"
    }
   ],
   "source": [
    "epochs = range(1, len(history.history['val_loss']) + 1)\n",
    "plt.plot(epochs, history.history['loss'])\n",
    "plt.plot(epochs, history.history['val_loss'])\n",
    "plt.title('model loss')\n",
    "plt.ylabel('loss')\n",
    "plt.xlabel('epoch')\n",
    "plt.legend(['train', 'val'], loc='upper left')\n",
    "plt.show()"
   ]
  },
  {
   "cell_type": "markdown",
   "metadata": {},
   "source": [
    "### 5 Discussions "
   ]
  },
  {
   "cell_type": "markdown",
   "metadata": {},
   "source": [
    "### 6 Conclusions "
   ]
  },
  {
   "cell_type": "markdown",
   "metadata": {},
   "source": [
    "### Reference\n",
    "[1] [Bidirectional LSTM-CRF Models for Sequence Tagging](https://arxiv.org/abs/1508.01991)<br>\n",
    "[2] [김영민 Sequence Labeling을\n",
    "위한 기계학습.pdf](http://www.hansung.ac.kr/web/sdkim/kcc2014-nlp-workshop?p_p_id=EXT_BBS&p_p_lifecycle=1&p_p_state=exclusive&p_p_mode=view&p_p_col_id=column-1&p_p_col_count=1&_EXT_BBS_struts_action=%2Fext%2Fbbs%2Fget_file&_EXT_BBS_extFileId=635976)<br>\n",
    "[3] [Conditional Random Field (CRF) 기반 품사 판별기의 원리와 HMM 기반 품사 판별기와의 차이점](https://lovit.github.io/nlp/2018/09/13/crf_based_tagger/)<br>\n",
    "[4] [LSTM의 원리와 수식 계산](http://docs.likejazz.com/lstm/)<br>\n",
    "[5] [양방향 LSTM과 CRF(Bidirectional LSTM + CRF)](https://wikidocs.net/34156)"
   ]
  }
 ],
 "metadata": {
  "kernelspec": {
   "display_name": "Python 3",
   "language": "python",
   "name": "python3"
  },
  "language_info": {
   "codemirror_mode": {
    "name": "ipython",
    "version": 3
   },
   "file_extension": ".py",
   "mimetype": "text/x-python",
   "name": "python",
   "nbconvert_exporter": "python",
   "pygments_lexer": "ipython3",
   "version": "3.6.8"
  }
 },
 "nbformat": 4,
 "nbformat_minor": 2
}
